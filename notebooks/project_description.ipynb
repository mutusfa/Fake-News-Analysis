{
 "cells": [
  {
   "cell_type": "markdown",
   "metadata": {},
   "source": [
    "# Capstone Project"
   ]
  },
  {
   "cell_type": "markdown",
   "metadata": {},
   "source": [
    "Congratulations on reaching the end of the deep learning module. I believe this week has been pretty hard with a lot of new information. So now you will get a chance to put in practice all the pieces of material you learned and see how it all fits together. \n",
    "As with the previous capstone projects, the outcome of this module should potentially serve as your portfolio item, so put effort into making it a quality piece of work."
   ]
  },
  {
   "cell_type": "markdown",
   "metadata": {},
   "source": [
    "## Background\n",
    "\n",
    "<div style=\"text-align:center;margin-top:10px\">\n",
    "<div><img style=\"width:400px\" src=\"https://th.thgim.com/news/national/6rs0yd/article26627480.ece/ALTERNATES/FREE_660/IMG-fakenews\"></img><div>\n",
    "<div style=\"margin: -30px 0 20px 0; color:rgb(117, 117, 117);font-size:12px;\">Source: https://www.facebook.com/STFUIndianMedia/</div>\n",
    "</div>"
   ]
  },
  {
   "cell_type": "markdown",
   "metadata": {},
   "source": [
    "One of the biggest worldwide challenges we are facing these days is misinformation. Incorrect information can be harmless in some contexts, but can be devastating in others https://30secondes.org/en/module/impacts-of-fake-news/\n",
    "\n",
    "<div style=\"margin:2% 15%;color:#757575;font-size:30px;text-align:center;font-weight:400px\">\"It is now known that false information played a major role in the last American presidential election\"\n",
    "    <div style=\"margin-bottom:20px; color:rgb(117, 117, 117);font-size:12px;\">Source: https://30secondes.org/en/module/impacts-of-fake-news/</div>\n",
    "</div>\n",
    "\n",
    "\n",
    "\n",
    "So, for this project, we are going to classify fake information. More specifically, this is an NLP problem, we will use article headlines and body text and will try to guess whether a particular article is fake or not.\n",
    "\n",
    "We will use https://www.kaggle.com/clmentbisaillon/fake-and-real-news-dataset dataset from Kaggle."
   ]
  },
  {
   "cell_type": "markdown",
   "metadata": {},
   "source": [
    "---"
   ]
  },
  {
   "cell_type": "markdown",
   "metadata": {
    "pycharm": {
     "name": "#%% md\n"
    }
   },
   "source": [
    "## Requirements\n",
    "\n",
    "#### General requirements for projects are as follow:\n",
    "\n",
    "- Do EDA\n",
    "- Try to find most predictive features from your data and use heuristic rules as your baseline\n",
    "- Make 2+ ML models (LogReg, RandomForest, NaiveBayes, BootsedTrees, ...) with engineered features.\n",
    "- Make an end-to-end trainable deep-learning model\n",
    "- You should use Pytorch, PyTorch Lightning or FastAI for the DL implementation.\n",
    "- Clearly describe your thought process and reasoning in the notebook.\n",
    "- Compare performances of all models. Which one is the best? Why?\n",
    "- Analyze the misclassified items, understand and present why are they harder for the model to guess.\n",
    "\n",
    "#### Presentation\n",
    "Make a presentation about the project: \n",
    "- Describe your work (data, model, results)\n",
    "- Identify biggest challenges\n",
    "- Suggest areas for improvement of you approach\n"
   ]
  },
  {
   "cell_type": "markdown",
   "metadata": {},
   "source": [
    "## Evaluation Criteria"
   ]
  },
  {
   "cell_type": "markdown",
   "metadata": {},
   "source": [
    "- Demonstration of your deep learning skills\n",
    "- Demonstration of ML engineering skills \n",
    "- Aggregate model performance\n",
    "- Code quality\n",
    "- Delivery of the presentation"
   ]
  },
  {
   "cell_type": "markdown",
   "metadata": {
    "jupyter": {
     "outputs_hidden": false
    },
    "pycharm": {
     "name": "#%%\n"
    }
   },
   "source": [
    "## Bonus challenges\n",
    "\n",
    "- Study your model with model interpretability tools, like Lime"
   ]
  },
  {
   "cell_type": "code",
   "execution_count": null,
   "metadata": {},
   "outputs": [],
   "source": []
  }
 ],
 "metadata": {
  "kernelspec": {
   "display_name": "Python 3",
   "language": "python",
   "name": "python3"
  },
  "language_info": {
   "codemirror_mode": {
    "name": "ipython",
    "version": 3
   },
   "file_extension": ".py",
   "mimetype": "text/x-python",
   "name": "python",
   "nbconvert_exporter": "python",
   "pygments_lexer": "ipython3",
   "version": "3.8.5"
  },
  "pycharm": {
   "stem_cell": {
    "cell_type": "raw",
    "metadata": {
     "collapsed": false
    },
    "source": []
   }
  }
 },
 "nbformat": 4,
 "nbformat_minor": 4
}
