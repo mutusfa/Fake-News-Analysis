{
 "cells": [
  {
   "cell_type": "code",
   "execution_count": 2,
   "metadata": {},
   "outputs": [],
   "source": [
    "import numpy as np\n",
    "import pandas as pd\n",
    "import seaborn as sns\n",
    "\n",
    "from jjuoda_dl4.utils import make_train_dataframes, BASE_DATA_DIR\n",
    "\n",
    "RANDOM_SEED = 42\n",
    "pd.options.display.max_colwidth = None"
   ]
  },
  {
   "cell_type": "code",
   "execution_count": 3,
   "metadata": {},
   "outputs": [],
   "source": [
    "nela_gt_2018_articles_df = pd.read_csv(\n",
    "    BASE_DATA_DIR / \"interim/nela-gt-2018-articles.csv\", index_col=0\n",
    ")\n",
    "nela_gt_2018_scores_df = pd.read_csv(\n",
    "    BASE_DATA_DIR / \"interim/nela-gt-2018-scores.csv\", index_col=0\n",
    ")"
   ]
  },
  {
   "cell_type": "code",
   "execution_count": 4,
   "metadata": {},
   "outputs": [],
   "source": [
    "nela_gt_2018_articles_df[\"is_fake\"] = nela_gt_2018_articles_df[\"source_score\"] < 0"
   ]
  },
  {
   "cell_type": "markdown",
   "metadata": {},
   "source": [
    "### Difirentiating real news from fake news"
   ]
  },
  {
   "cell_type": "code",
   "execution_count": 5,
   "metadata": {},
   "outputs": [],
   "source": [
    "def make_equal_split(articles_df, scores, n_articles=10, seed=RANDOM_SEED):\n",
    "    \"\"\"Get an equal sample of articles from sources with particular scores\"\"\"\n",
    "    sample = []\n",
    "    for score in scores:\n",
    "        sample.append(\n",
    "            articles_df[articles_df.source_score == score].sample(\n",
    "                n_articles, random_state=seed\n",
    "            )\n",
    "        )\n",
    "    # shuffle the samples so different scores are not always in the same order\n",
    "    return pd.concat(sample).sample(frac=1, random_state=RANDOM_SEED)"
   ]
  },
  {
   "cell_type": "code",
   "execution_count": 6,
   "metadata": {},
   "outputs": [
    {
     "data": {
      "text/plain": [
       "108150                              whats in your water 6 reasons why you should never drink from the tap\n",
       "494567                                     obama endorses long list of candidates ahead of 2018 elections\n",
       "548544    flight mh370 new documentary promises to aposroll back the wavesapos to solve mystery of lost a\n",
       "182303                                 president orders pentagon to create space force branch of military\n",
       "16943                                   trump defends decision to congratulate putin attacks crazed media\n",
       "238642                                          lava from hawaii volcano enters ocean creates toxic cloud\n",
       "448130                                  don snow trump channels game of thrones with sanctions are coming\n",
       "238627                                                                           robots grow human organs\n",
       "433987                                                       why you shouldnt obsess about overpopulation\n",
       "620496                                       president trump is helping make chinese research great again\n",
       "477211                                             drinking calfire firefighters will get their jobs back\n",
       "306182                                   us officials cross the dmz into north korea to prepare for talks\n",
       "135683                                                               melania trumps approval rating soars\n",
       "375525                          trump distances self from possible gop midterm flop 2020 is real election\n",
       "262672                                           iran general ready for jihad posts white house explosion\n",
       "606819       high carbohydrate low protein diets may help people stay mentally fit in old age study shows\n",
       "81967                                                                                    backtracks taunt\n",
       "217475          netflix doc mercury 13 tells the story of women who should have gone to space but couldnt\n",
       "61893      brazilaposs failure to live up to its great economic promise has handed power to the far right\n",
       "401397                                                               how the world will look like in 2050\n",
       "Name: title, dtype: object"
      ]
     },
     "execution_count": 6,
     "metadata": {},
     "output_type": "execute_result"
    }
   ],
   "source": [
    "should_be_clear = make_equal_split(nela_gt_2018_articles_df, [-2, 2])\n",
    "should_be_clear.title.str.lower()"
   ]
  },
  {
   "cell_type": "code",
   "execution_count": 7,
   "metadata": {},
   "outputs": [
    {
     "data": {
      "text/plain": [
       "0.4"
      ]
     },
     "execution_count": 7,
     "metadata": {},
     "output_type": "execute_result"
    }
   ],
   "source": [
    "julius_guess = np.array(\n",
    "    [1, 0, 1, 0, 1, 0, 1, 0, 0, 1, 1, 0, 0, 1, 0, 0, 1, 0, 0, 0], dtype=bool\n",
    ")\n",
    "np.mean(julius_guess)"
   ]
  },
  {
   "cell_type": "markdown",
   "metadata": {},
   "source": [
    "Hm, so I'm biased to believe news are true. I know the split is 50/50 :D"
   ]
  },
  {
   "cell_type": "code",
   "execution_count": 8,
   "metadata": {},
   "outputs": [
    {
     "name": "stdout",
     "output_type": "stream",
     "text": [
      "Julius's accuracy: 40.00%\n"
     ]
    }
   ],
   "source": [
    "print(\n",
    "    \"Julius's accuracy: {:.2f}%\".format(\n",
    "        np.mean(julius_guess == should_be_clear.is_fake) * 100\n",
    "    )\n",
    ")"
   ]
  },
  {
   "cell_type": "code",
   "execution_count": 9,
   "metadata": {},
   "outputs": [
    {
     "data": {
      "text/html": [
       "<div>\n",
       "<style scoped>\n",
       "    .dataframe tbody tr th:only-of-type {\n",
       "        vertical-align: middle;\n",
       "    }\n",
       "\n",
       "    .dataframe tbody tr th {\n",
       "        vertical-align: top;\n",
       "    }\n",
       "\n",
       "    .dataframe thead th {\n",
       "        text-align: right;\n",
       "    }\n",
       "</style>\n",
       "<table border=\"1\" class=\"dataframe\">\n",
       "  <thead>\n",
       "    <tr style=\"text-align: right;\">\n",
       "      <th></th>\n",
       "      <th>title</th>\n",
       "      <th>julius_guess</th>\n",
       "      <th>is_fake</th>\n",
       "      <th>source</th>\n",
       "    </tr>\n",
       "  </thead>\n",
       "  <tbody>\n",
       "    <tr>\n",
       "      <th>108150</th>\n",
       "      <td>Whats in your water 6 Reasons why you should never drink from the tap</td>\n",
       "      <td>True</td>\n",
       "      <td>True</td>\n",
       "      <td>Natural News</td>\n",
       "    </tr>\n",
       "    <tr>\n",
       "      <th>494567</th>\n",
       "      <td>Obama Endorses Long List Of Candidates Ahead Of 2018 Elections</td>\n",
       "      <td>False</td>\n",
       "      <td>False</td>\n",
       "      <td>Talking Points Memo</td>\n",
       "    </tr>\n",
       "    <tr>\n",
       "      <th>548544</th>\n",
       "      <td>Flight MH370 New documentary promises to aposroll back the wavesapos to solve mystery of lost a</td>\n",
       "      <td>True</td>\n",
       "      <td>False</td>\n",
       "      <td>The Independent</td>\n",
       "    </tr>\n",
       "    <tr>\n",
       "      <th>182303</th>\n",
       "      <td>President orders Pentagon to create space force branch of military</td>\n",
       "      <td>False</td>\n",
       "      <td>True</td>\n",
       "      <td>Drudge Report</td>\n",
       "    </tr>\n",
       "    <tr>\n",
       "      <th>16943</th>\n",
       "      <td>Trump defends decision to congratulate Putin attacks crazed media</td>\n",
       "      <td>True</td>\n",
       "      <td>True</td>\n",
       "      <td>Daily Mail</td>\n",
       "    </tr>\n",
       "    <tr>\n",
       "      <th>238642</th>\n",
       "      <td>Lava from Hawaii volcano enters ocean creates toxic cloud</td>\n",
       "      <td>False</td>\n",
       "      <td>True</td>\n",
       "      <td>Drudge Report</td>\n",
       "    </tr>\n",
       "    <tr>\n",
       "      <th>448130</th>\n",
       "      <td>Don Snow Trump Channels Game Of Thrones With Sanctions Are Coming</td>\n",
       "      <td>True</td>\n",
       "      <td>False</td>\n",
       "      <td>Talking Points Memo</td>\n",
       "    </tr>\n",
       "    <tr>\n",
       "      <th>238627</th>\n",
       "      <td>ROBOTS GROW HUMAN ORGANS</td>\n",
       "      <td>False</td>\n",
       "      <td>True</td>\n",
       "      <td>Drudge Report</td>\n",
       "    </tr>\n",
       "    <tr>\n",
       "      <th>433987</th>\n",
       "      <td>Why you shouldnt obsess about overpopulation</td>\n",
       "      <td>False</td>\n",
       "      <td>False</td>\n",
       "      <td>Vox</td>\n",
       "    </tr>\n",
       "    <tr>\n",
       "      <th>620496</th>\n",
       "      <td>President Trump Is Helping Make Chinese Research Great Again</td>\n",
       "      <td>True</td>\n",
       "      <td>False</td>\n",
       "      <td>Fortune</td>\n",
       "    </tr>\n",
       "    <tr>\n",
       "      <th>477211</th>\n",
       "      <td>Drinking CalFire firefighters will get their jobs back</td>\n",
       "      <td>True</td>\n",
       "      <td>False</td>\n",
       "      <td>Mercury News</td>\n",
       "    </tr>\n",
       "    <tr>\n",
       "      <th>306182</th>\n",
       "      <td>US officials cross the DMZ into North Korea to prepare for talks</td>\n",
       "      <td>False</td>\n",
       "      <td>True</td>\n",
       "      <td>Daily Mail</td>\n",
       "    </tr>\n",
       "    <tr>\n",
       "      <th>135683</th>\n",
       "      <td>Melania Trumps Approval Rating Soars</td>\n",
       "      <td>False</td>\n",
       "      <td>True</td>\n",
       "      <td>The Political Insider</td>\n",
       "    </tr>\n",
       "    <tr>\n",
       "      <th>375525</th>\n",
       "      <td>Trump Distances Self From Possible GOP Midterm Flop 2020 Is Real Election</td>\n",
       "      <td>True</td>\n",
       "      <td>False</td>\n",
       "      <td>Talking Points Memo</td>\n",
       "    </tr>\n",
       "    <tr>\n",
       "      <th>262672</th>\n",
       "      <td>Iran General Ready for Jihad Posts White House Explosion</td>\n",
       "      <td>False</td>\n",
       "      <td>True</td>\n",
       "      <td>Drudge Report</td>\n",
       "    </tr>\n",
       "    <tr>\n",
       "      <th>606819</th>\n",
       "      <td>High carbohydrate low protein diets may help people stay mentally fit in old age study shows</td>\n",
       "      <td>False</td>\n",
       "      <td>False</td>\n",
       "      <td>The Independent</td>\n",
       "    </tr>\n",
       "    <tr>\n",
       "      <th>81967</th>\n",
       "      <td>Backtracks Taunt</td>\n",
       "      <td>True</td>\n",
       "      <td>True</td>\n",
       "      <td>Drudge Report</td>\n",
       "    </tr>\n",
       "    <tr>\n",
       "      <th>217475</th>\n",
       "      <td>Netflix doc Mercury 13 tells the story of women who should have gone to space but couldnt</td>\n",
       "      <td>False</td>\n",
       "      <td>False</td>\n",
       "      <td>The Verge</td>\n",
       "    </tr>\n",
       "    <tr>\n",
       "      <th>61893</th>\n",
       "      <td>Brazilaposs failure to live up to its great economic promise has handed power to the far right</td>\n",
       "      <td>False</td>\n",
       "      <td>False</td>\n",
       "      <td>The Independent</td>\n",
       "    </tr>\n",
       "    <tr>\n",
       "      <th>401397</th>\n",
       "      <td>How the world will look like in 2050</td>\n",
       "      <td>False</td>\n",
       "      <td>True</td>\n",
       "      <td>The Duran</td>\n",
       "    </tr>\n",
       "  </tbody>\n",
       "</table>\n",
       "</div>"
      ],
      "text/plain": [
       "                                                                                                  title  \\\n",
       "108150                            Whats in your water 6 Reasons why you should never drink from the tap   \n",
       "494567                                   Obama Endorses Long List Of Candidates Ahead Of 2018 Elections   \n",
       "548544  Flight MH370 New documentary promises to aposroll back the wavesapos to solve mystery of lost a   \n",
       "182303                               President orders Pentagon to create space force branch of military   \n",
       "16943                                 Trump defends decision to congratulate Putin attacks crazed media   \n",
       "238642                                        Lava from Hawaii volcano enters ocean creates toxic cloud   \n",
       "448130                                Don Snow Trump Channels Game Of Thrones With Sanctions Are Coming   \n",
       "238627                                                                         ROBOTS GROW HUMAN ORGANS   \n",
       "433987                                                     Why you shouldnt obsess about overpopulation   \n",
       "620496                                     President Trump Is Helping Make Chinese Research Great Again   \n",
       "477211                                           Drinking CalFire firefighters will get their jobs back   \n",
       "306182                                 US officials cross the DMZ into North Korea to prepare for talks   \n",
       "135683                                                             Melania Trumps Approval Rating Soars   \n",
       "375525                        Trump Distances Self From Possible GOP Midterm Flop 2020 Is Real Election   \n",
       "262672                                         Iran General Ready for Jihad Posts White House Explosion   \n",
       "606819     High carbohydrate low protein diets may help people stay mentally fit in old age study shows   \n",
       "81967                                                                                  Backtracks Taunt   \n",
       "217475        Netflix doc Mercury 13 tells the story of women who should have gone to space but couldnt   \n",
       "61893    Brazilaposs failure to live up to its great economic promise has handed power to the far right   \n",
       "401397                                                             How the world will look like in 2050   \n",
       "\n",
       "        julius_guess  is_fake                 source  \n",
       "108150          True     True           Natural News  \n",
       "494567         False    False    Talking Points Memo  \n",
       "548544          True    False        The Independent  \n",
       "182303         False     True          Drudge Report  \n",
       "16943           True     True             Daily Mail  \n",
       "238642         False     True          Drudge Report  \n",
       "448130          True    False    Talking Points Memo  \n",
       "238627         False     True          Drudge Report  \n",
       "433987         False    False                    Vox  \n",
       "620496          True    False                Fortune  \n",
       "477211          True    False           Mercury News  \n",
       "306182         False     True             Daily Mail  \n",
       "135683         False     True  The Political Insider  \n",
       "375525          True    False    Talking Points Memo  \n",
       "262672         False     True          Drudge Report  \n",
       "606819         False    False        The Independent  \n",
       "81967           True     True          Drudge Report  \n",
       "217475         False    False              The Verge  \n",
       "61893          False    False        The Independent  \n",
       "401397         False     True              The Duran  "
      ]
     },
     "execution_count": 9,
     "metadata": {},
     "output_type": "execute_result"
    }
   ],
   "source": [
    "should_be_clear[\"julius_guess\"] = julius_guess\n",
    "should_be_clear[[\"title\", \"julius_guess\", \"is_fake\", \"source\"]]"
   ]
  },
  {
   "cell_type": "markdown",
   "metadata": {},
   "source": [
    "Ok, my accuracy is slightly lower than expected from random guessing. Title might not be enough. Let's try again with another seed."
   ]
  },
  {
   "cell_type": "code",
   "execution_count": 10,
   "metadata": {},
   "outputs": [
    {
     "data": {
      "text/plain": [
       "88615                                        president trump confirms 2020 re-election bid on drudge report\n",
       "141284              parkland survivors tell off florida politicians weve had enough of thoughts and prayers\n",
       "572577                                    democrats activists rally against trumps family separation policy\n",
       "229944                        obama prepares for the campaign trail but some democrats want him to back off\n",
       "368360                     trump will sanction more airstrikes against syria if assad uses chemical weapons\n",
       "567855                                                          erie pa ties snow season record more on way\n",
       "628972          mumsnet and facebook putting women off natural birth with apostsunami of horror storiesapos\n",
       "380575                                  trumps lawyer to reveal how president conspired to corrupt election\n",
       "477195                               meghan markles pregnancy may be further along than previously reported\n",
       "278354                                 brexit deal will be agreed within three weeks dominic raab tells mps\n",
       "191764                                              jason would these financial adviser questions be useful\n",
       "141489                                                        robot dog taught to fight back against humans\n",
       "540055      rapper ti posts filthy-semi-nude strip tease video of melania trump its still on twitter 4 days\n",
       "611037               this chest-mounted robot feeding arm could stuff your face when youre too full to move\n",
       "161488    sen dianne feinstein employed spy for communist china as office manager for 20 years during which\n",
       "19045                                                           do decent airport cocktail bars still exist\n",
       "35854                                                              left wants to rename austin over slavery\n",
       "469135                                                verizon says it successfully tested 5g on the moto z3\n",
       "646301                                              endorsement cameron cam davis for mwrd bradford vacancy\n",
       "134899                                                             yet another witness denies fords account\n",
       "Name: title, dtype: object"
      ]
     },
     "execution_count": 10,
     "metadata": {},
     "output_type": "execute_result"
    }
   ],
   "source": [
    "should_be_clear_2 = make_equal_split(nela_gt_2018_articles_df, [-2, 2], seed=2)\n",
    "should_be_clear_2.title.str.lower()"
   ]
  },
  {
   "cell_type": "code",
   "execution_count": 11,
   "metadata": {},
   "outputs": [
    {
     "data": {
      "text/plain": [
       "0.65"
      ]
     },
     "execution_count": 11,
     "metadata": {},
     "output_type": "execute_result"
    }
   ],
   "source": [
    "julius_guess_2 = np.array(\n",
    "    [1, 1, 0, 1, 0, 0, 1, 1, 1, 0, 1, 1, 1, 1, 1, 0, 1, 0, 0, 1], dtype=bool\n",
    ")\n",
    "julius_guess_2.mean()"
   ]
  },
  {
   "cell_type": "code",
   "execution_count": 12,
   "metadata": {},
   "outputs": [
    {
     "data": {
      "text/plain": [
       "0.65"
      ]
     },
     "execution_count": 12,
     "metadata": {},
     "output_type": "execute_result"
    }
   ],
   "source": [
    "(julius_guess_2 == should_be_clear_2.is_fake).mean()"
   ]
  },
  {
   "cell_type": "code",
   "execution_count": 13,
   "metadata": {},
   "outputs": [
    {
     "data": {
      "text/plain": [
       "0.55"
      ]
     },
     "execution_count": 13,
     "metadata": {},
     "output_type": "execute_result"
    }
   ],
   "source": [
    "ugnius_guess_2 = np.array(\n",
    "    [1, 0, 0, 0, 0, 1, 1, 0, 1, 1, 1, 1, 1, 1, 1, 1, 1, 0, 0, 1], dtype=bool\n",
    ")\n",
    "(ugnius_guess_2 == should_be_clear_2.is_fake).mean()"
   ]
  },
  {
   "cell_type": "code",
   "execution_count": 16,
   "metadata": {},
   "outputs": [
    {
     "data": {
      "text/html": [
       "<div>\n",
       "<style scoped>\n",
       "    .dataframe tbody tr th:only-of-type {\n",
       "        vertical-align: middle;\n",
       "    }\n",
       "\n",
       "    .dataframe tbody tr th {\n",
       "        vertical-align: top;\n",
       "    }\n",
       "\n",
       "    .dataframe thead th {\n",
       "        text-align: right;\n",
       "    }\n",
       "</style>\n",
       "<table border=\"1\" class=\"dataframe\">\n",
       "  <thead>\n",
       "    <tr style=\"text-align: right;\">\n",
       "      <th></th>\n",
       "      <th>title</th>\n",
       "      <th>julius_guess</th>\n",
       "      <th>ugnius_guess</th>\n",
       "      <th>is_fake</th>\n",
       "      <th>source</th>\n",
       "    </tr>\n",
       "  </thead>\n",
       "  <tbody>\n",
       "    <tr>\n",
       "      <th>88615</th>\n",
       "      <td>President Trump Confirms 2020 Re-Election Bid on Drudge Report</td>\n",
       "      <td>True</td>\n",
       "      <td>True</td>\n",
       "      <td>True</td>\n",
       "      <td>The Political Insider</td>\n",
       "    </tr>\n",
       "    <tr>\n",
       "      <th>141284</th>\n",
       "      <td>Parkland Survivors Tell Off Florida Politicians Weve Had Enough of Thoughts and Prayers</td>\n",
       "      <td>True</td>\n",
       "      <td>False</td>\n",
       "      <td>False</td>\n",
       "      <td>Daily Beast</td>\n",
       "    </tr>\n",
       "    <tr>\n",
       "      <th>572577</th>\n",
       "      <td>Democrats activists rally against Trumps family separation policy</td>\n",
       "      <td>False</td>\n",
       "      <td>False</td>\n",
       "      <td>False</td>\n",
       "      <td>CNBC</td>\n",
       "    </tr>\n",
       "    <tr>\n",
       "      <th>229944</th>\n",
       "      <td>Obama Prepares For The Campaign Trail But Some Democrats Want Him To Back Off</td>\n",
       "      <td>True</td>\n",
       "      <td>False</td>\n",
       "      <td>True</td>\n",
       "      <td>The Political Insider</td>\n",
       "    </tr>\n",
       "    <tr>\n",
       "      <th>368360</th>\n",
       "      <td>Trump will sanction MORE airstrikes against Syria if Assad uses chemical weapons</td>\n",
       "      <td>False</td>\n",
       "      <td>False</td>\n",
       "      <td>True</td>\n",
       "      <td>Daily Mail</td>\n",
       "    </tr>\n",
       "    <tr>\n",
       "      <th>567855</th>\n",
       "      <td>Erie PA Ties Snow Season Record More On Way</td>\n",
       "      <td>False</td>\n",
       "      <td>True</td>\n",
       "      <td>True</td>\n",
       "      <td>Drudge Report</td>\n",
       "    </tr>\n",
       "    <tr>\n",
       "      <th>628972</th>\n",
       "      <td>Mumsnet and Facebook putting women off natural birth with apostsunami of horror storiesapos</td>\n",
       "      <td>True</td>\n",
       "      <td>True</td>\n",
       "      <td>False</td>\n",
       "      <td>The Independent</td>\n",
       "    </tr>\n",
       "    <tr>\n",
       "      <th>380575</th>\n",
       "      <td>Trumps lawyer to reveal how President conspired to corrupt election</td>\n",
       "      <td>True</td>\n",
       "      <td>False</td>\n",
       "      <td>True</td>\n",
       "      <td>Daily Mail</td>\n",
       "    </tr>\n",
       "    <tr>\n",
       "      <th>477195</th>\n",
       "      <td>Meghan Markles pregnancy may be further along than previously reported</td>\n",
       "      <td>True</td>\n",
       "      <td>True</td>\n",
       "      <td>False</td>\n",
       "      <td>Mercury News</td>\n",
       "    </tr>\n",
       "    <tr>\n",
       "      <th>278354</th>\n",
       "      <td>Brexit deal will be agreed within three weeks Dominic Raab tells MPs</td>\n",
       "      <td>False</td>\n",
       "      <td>True</td>\n",
       "      <td>False</td>\n",
       "      <td>The Independent</td>\n",
       "    </tr>\n",
       "    <tr>\n",
       "      <th>191764</th>\n",
       "      <td>Jason Would these financial adviser questions be useful</td>\n",
       "      <td>True</td>\n",
       "      <td>True</td>\n",
       "      <td>False</td>\n",
       "      <td>Mercury News</td>\n",
       "    </tr>\n",
       "    <tr>\n",
       "      <th>141489</th>\n",
       "      <td>Robot dog taught to fight back against humans</td>\n",
       "      <td>True</td>\n",
       "      <td>True</td>\n",
       "      <td>True</td>\n",
       "      <td>Drudge Report</td>\n",
       "    </tr>\n",
       "    <tr>\n",
       "      <th>540055</th>\n",
       "      <td>Rapper TI Posts Filthy-Semi-Nude Strip Tease Video of Melania Trump Its Still on Twitter 4 DAYS</td>\n",
       "      <td>True</td>\n",
       "      <td>True</td>\n",
       "      <td>True</td>\n",
       "      <td>The Gateway Pundit</td>\n",
       "    </tr>\n",
       "    <tr>\n",
       "      <th>611037</th>\n",
       "      <td>This chest-mounted robot feeding arm could stuff your face when youre too full to move</td>\n",
       "      <td>True</td>\n",
       "      <td>True</td>\n",
       "      <td>False</td>\n",
       "      <td>The Verge</td>\n",
       "    </tr>\n",
       "    <tr>\n",
       "      <th>161488</th>\n",
       "      <td>Sen Dianne Feinstein employed SPY for communist China as office manager for 20 years during which</td>\n",
       "      <td>True</td>\n",
       "      <td>True</td>\n",
       "      <td>True</td>\n",
       "      <td>Natural News</td>\n",
       "    </tr>\n",
       "    <tr>\n",
       "      <th>19045</th>\n",
       "      <td>Do Decent Airport Cocktail Bars Still Exist</td>\n",
       "      <td>False</td>\n",
       "      <td>True</td>\n",
       "      <td>False</td>\n",
       "      <td>Daily Beast</td>\n",
       "    </tr>\n",
       "    <tr>\n",
       "      <th>35854</th>\n",
       "      <td>Left Wants to Rename Austin Over Slavery</td>\n",
       "      <td>True</td>\n",
       "      <td>True</td>\n",
       "      <td>True</td>\n",
       "      <td>FrontPage Magazine</td>\n",
       "    </tr>\n",
       "    <tr>\n",
       "      <th>469135</th>\n",
       "      <td>Verizon says it successfully tested 5G on the Moto Z3</td>\n",
       "      <td>False</td>\n",
       "      <td>False</td>\n",
       "      <td>False</td>\n",
       "      <td>The Verge</td>\n",
       "    </tr>\n",
       "    <tr>\n",
       "      <th>646301</th>\n",
       "      <td>ENDORSEMENT Cameron Cam Davis for MWRD Bradford vacancy</td>\n",
       "      <td>False</td>\n",
       "      <td>False</td>\n",
       "      <td>False</td>\n",
       "      <td>Chicago Sun-Times</td>\n",
       "    </tr>\n",
       "    <tr>\n",
       "      <th>134899</th>\n",
       "      <td>Yet Another Witness Denies Fords Account</td>\n",
       "      <td>True</td>\n",
       "      <td>True</td>\n",
       "      <td>True</td>\n",
       "      <td>Drudge Report</td>\n",
       "    </tr>\n",
       "  </tbody>\n",
       "</table>\n",
       "</div>"
      ],
      "text/plain": [
       "                                                                                                    title  \\\n",
       "88615                                      President Trump Confirms 2020 Re-Election Bid on Drudge Report   \n",
       "141284            Parkland Survivors Tell Off Florida Politicians Weve Had Enough of Thoughts and Prayers   \n",
       "572577                                  Democrats activists rally against Trumps family separation policy   \n",
       "229944                      Obama Prepares For The Campaign Trail But Some Democrats Want Him To Back Off   \n",
       "368360                   Trump will sanction MORE airstrikes against Syria if Assad uses chemical weapons   \n",
       "567855                                                        Erie PA Ties Snow Season Record More On Way   \n",
       "628972        Mumsnet and Facebook putting women off natural birth with apostsunami of horror storiesapos   \n",
       "380575                                Trumps lawyer to reveal how President conspired to corrupt election   \n",
       "477195                             Meghan Markles pregnancy may be further along than previously reported   \n",
       "278354                               Brexit deal will be agreed within three weeks Dominic Raab tells MPs   \n",
       "191764                                            Jason Would these financial adviser questions be useful   \n",
       "141489                                                      Robot dog taught to fight back against humans   \n",
       "540055    Rapper TI Posts Filthy-Semi-Nude Strip Tease Video of Melania Trump Its Still on Twitter 4 DAYS   \n",
       "611037             This chest-mounted robot feeding arm could stuff your face when youre too full to move   \n",
       "161488  Sen Dianne Feinstein employed SPY for communist China as office manager for 20 years during which   \n",
       "19045                                                         Do Decent Airport Cocktail Bars Still Exist   \n",
       "35854                                                            Left Wants to Rename Austin Over Slavery   \n",
       "469135                                              Verizon says it successfully tested 5G on the Moto Z3   \n",
       "646301                                            ENDORSEMENT Cameron Cam Davis for MWRD Bradford vacancy   \n",
       "134899                                                           Yet Another Witness Denies Fords Account   \n",
       "\n",
       "        julius_guess  ugnius_guess  is_fake                 source  \n",
       "88615           True          True     True  The Political Insider  \n",
       "141284          True         False    False            Daily Beast  \n",
       "572577         False         False    False                   CNBC  \n",
       "229944          True         False     True  The Political Insider  \n",
       "368360         False         False     True             Daily Mail  \n",
       "567855         False          True     True          Drudge Report  \n",
       "628972          True          True    False        The Independent  \n",
       "380575          True         False     True             Daily Mail  \n",
       "477195          True          True    False           Mercury News  \n",
       "278354         False          True    False        The Independent  \n",
       "191764          True          True    False           Mercury News  \n",
       "141489          True          True     True          Drudge Report  \n",
       "540055          True          True     True     The Gateway Pundit  \n",
       "611037          True          True    False              The Verge  \n",
       "161488          True          True     True           Natural News  \n",
       "19045          False          True    False            Daily Beast  \n",
       "35854           True          True     True     FrontPage Magazine  \n",
       "469135         False         False    False              The Verge  \n",
       "646301         False         False    False      Chicago Sun-Times  \n",
       "134899          True          True     True          Drudge Report  "
      ]
     },
     "execution_count": 16,
     "metadata": {},
     "output_type": "execute_result"
    }
   ],
   "source": [
    "should_be_clear_2[\"julius_guess\"] = julius_guess_2\n",
    "should_be_clear_2[\"ugnius_guess\"] = ugnius_guess_2\n",
    "should_be_clear_2[[\"title\", \"julius_guess\", \"ugnius_guess\", \"is_fake\", \"source\"]]"
   ]
  },
  {
   "cell_type": "markdown",
   "metadata": {},
   "source": [
    "It's hilarious that my accuracy equals to proportion that I guessed of news being fake. Still, it means the task of distinguishing reliable sources from unreliable sources is hard, when all you have is the title."
   ]
  },
  {
   "cell_type": "markdown",
   "metadata": {},
   "source": []
  }
 ],
 "metadata": {
  "interpreter": {
   "hash": "ae7bee198037a552a421174d1fbfc7f84b0e1912ba1321ae8e594c02d8cc3bbf"
  },
  "kernelspec": {
   "display_name": "Python 3.9.7 ('jjuoda-DL.4')",
   "language": "python",
   "name": "python3"
  },
  "language_info": {
   "codemirror_mode": {
    "name": "ipython",
    "version": 3
   },
   "file_extension": ".py",
   "mimetype": "text/x-python",
   "name": "python",
   "nbconvert_exporter": "python",
   "pygments_lexer": "ipython3",
   "version": "3.9.7"
  }
 },
 "nbformat": 4,
 "nbformat_minor": 2
}
