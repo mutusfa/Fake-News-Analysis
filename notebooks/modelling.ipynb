{
 "cells": [
  {
   "cell_type": "code",
   "execution_count": 45,
   "metadata": {},
   "outputs": [],
   "source": [
    "from collections import Counter\n",
    "import io\n",
    "from pathlib import Path\n",
    "\n",
    "from autogluon.text import TextPredictor\n",
    "import fasttext.util\n",
    "from gensim.test.utils import datapath\n",
    "from gensim.models.fasttext import load_facebook_vectors\n",
    "from matplotlib import pyplot as plt\n",
    "import numpy as np\n",
    "import lightgbm as lgb\n",
    "import pandas as pd\n",
    "import seaborn as sns\n",
    "from sklearn.linear_model import LogisticRegression, SGDClassifier\n",
    "import spacy\n",
    "from tqdm import tqdm\n",
    "\n",
    "from jjuoda_dl4.utils import BASE_DATA_DIR, BASE_MODEL_DIR"
   ]
  },
  {
   "cell_type": "code",
   "execution_count": 4,
   "metadata": {},
   "outputs": [
    {
     "data": {
      "text/html": [
       "<div>\n",
       "<style scoped>\n",
       "    .dataframe tbody tr th:only-of-type {\n",
       "        vertical-align: middle;\n",
       "    }\n",
       "\n",
       "    .dataframe tbody tr th {\n",
       "        vertical-align: top;\n",
       "    }\n",
       "\n",
       "    .dataframe thead th {\n",
       "        text-align: right;\n",
       "    }\n",
       "</style>\n",
       "<table border=\"1\" class=\"dataframe\">\n",
       "  <thead>\n",
       "    <tr style=\"text-align: right;\">\n",
       "      <th></th>\n",
       "      <th>title</th>\n",
       "      <th>text</th>\n",
       "      <th>subject</th>\n",
       "      <th>date</th>\n",
       "      <th>is_fake</th>\n",
       "      <th>num_words_text</th>\n",
       "      <th>num_words_title</th>\n",
       "    </tr>\n",
       "  </thead>\n",
       "  <tbody>\n",
       "    <tr>\n",
       "      <th>0</th>\n",
       "      <td>As U.S. budget fight looms, Republicans flip t...</td>\n",
       "      <td>The head of a conservative Republican faction ...</td>\n",
       "      <td>politicsNews</td>\n",
       "      <td>December 31, 2017</td>\n",
       "      <td>False</td>\n",
       "      <td>746</td>\n",
       "      <td>10</td>\n",
       "    </tr>\n",
       "    <tr>\n",
       "      <th>1</th>\n",
       "      <td>U.S. military to accept transgender recruits o...</td>\n",
       "      <td>Transgender people will be allowed for the fir...</td>\n",
       "      <td>politicsNews</td>\n",
       "      <td>December 29, 2017</td>\n",
       "      <td>False</td>\n",
       "      <td>621</td>\n",
       "      <td>9</td>\n",
       "    </tr>\n",
       "    <tr>\n",
       "      <th>2</th>\n",
       "      <td>Senior U.S. Republican senator: 'Let Mr. Muell...</td>\n",
       "      <td>The special counsel investigation of links bet...</td>\n",
       "      <td>politicsNews</td>\n",
       "      <td>December 31, 2017</td>\n",
       "      <td>False</td>\n",
       "      <td>454</td>\n",
       "      <td>10</td>\n",
       "    </tr>\n",
       "    <tr>\n",
       "      <th>3</th>\n",
       "      <td>FBI Russia probe helped by Australian diplomat...</td>\n",
       "      <td>Trump campaign adviser George Papadopoulos tol...</td>\n",
       "      <td>politicsNews</td>\n",
       "      <td>December 30, 2017</td>\n",
       "      <td>False</td>\n",
       "      <td>372</td>\n",
       "      <td>9</td>\n",
       "    </tr>\n",
       "    <tr>\n",
       "      <th>4</th>\n",
       "      <td>Trump wants Postal Service to charge 'much mor...</td>\n",
       "      <td>President Donald Trump called on the U.S. Post...</td>\n",
       "      <td>politicsNews</td>\n",
       "      <td>December 29, 2017</td>\n",
       "      <td>False</td>\n",
       "      <td>849</td>\n",
       "      <td>11</td>\n",
       "    </tr>\n",
       "  </tbody>\n",
       "</table>\n",
       "</div>"
      ],
      "text/plain": [
       "                                               title  \\\n",
       "0  As U.S. budget fight looms, Republicans flip t...   \n",
       "1  U.S. military to accept transgender recruits o...   \n",
       "2  Senior U.S. Republican senator: 'Let Mr. Muell...   \n",
       "3  FBI Russia probe helped by Australian diplomat...   \n",
       "4  Trump wants Postal Service to charge 'much mor...   \n",
       "\n",
       "                                                text       subject  \\\n",
       "0  The head of a conservative Republican faction ...  politicsNews   \n",
       "1  Transgender people will be allowed for the fir...  politicsNews   \n",
       "2  The special counsel investigation of links bet...  politicsNews   \n",
       "3  Trump campaign adviser George Papadopoulos tol...  politicsNews   \n",
       "4  President Donald Trump called on the U.S. Post...  politicsNews   \n",
       "\n",
       "                 date  is_fake  num_words_text  num_words_title  \n",
       "0  December 31, 2017     False             746               10  \n",
       "1  December 29, 2017     False             621                9  \n",
       "2  December 31, 2017     False             454               10  \n",
       "3  December 30, 2017     False             372                9  \n",
       "4  December 29, 2017     False             849               11  "
      ]
     },
     "execution_count": 4,
     "metadata": {},
     "output_type": "execute_result"
    }
   ],
   "source": [
    "df_merged = pd.read_csv(BASE_DATA_DIR / \"final\" / \"merged.csv\")\n",
    "df_merged.head()"
   ]
  },
  {
   "cell_type": "code",
   "execution_count": 5,
   "metadata": {},
   "outputs": [],
   "source": [
    "# drop rows where both text and title were cleaned to empty string\n",
    "df_merged = df_merged[~(df_merged.title.isna() & df_merged.text.isna())]\n",
    "\n",
    "# fill in nan values with empty string\n",
    "df_merged.title.fillna(\"\", inplace=True)\n",
    "df_merged.text.fillna(\"\", inplace=True)"
   ]
  },
  {
   "cell_type": "markdown",
   "metadata": {},
   "source": [
    "### Baseline heuristic"
   ]
  },
  {
   "cell_type": "markdown",
   "metadata": {},
   "source": [
    "#### Words in all caps"
   ]
  },
  {
   "cell_type": "code",
   "execution_count": 6,
   "metadata": {},
   "outputs": [],
   "source": [
    "def count_all_caps(texts: pd.Series):\n",
    "    return texts.str.count(r\"\\b[A-Z]{2,}\\b\")\n",
    "\n",
    "\n",
    "def get_caps_table(texts: pd.Series, is_fake: pd.Series):\n",
    "    num_words = texts.str.split().str.len().values\n",
    "    num_caps = count_all_caps(texts).values\n",
    "\n",
    "    is_fake = is_fake[num_words > 0]\n",
    "    num_caps = num_caps[num_words > 0]\n",
    "    num_words = num_words[num_words > 0]\n",
    "\n",
    "    cap_frequency = num_caps / num_words\n",
    "\n",
    "    mean_caps_true = cap_frequency[~is_fake].mean()\n",
    "    mean_caps_fake = cap_frequency[is_fake].mean()\n",
    "\n",
    "    return mean_caps_true, mean_caps_fake\n",
    "\n",
    "\n",
    "mean_caps_title_true, mean_caps_title_fake = get_caps_table(\n",
    "    df_merged.title, df_merged.is_fake\n",
    ")\n",
    "mean_caps_text_true, mean_caps_text_fake = get_caps_table(\n",
    "    df_merged.text, df_merged.is_fake\n",
    ")\n",
    "\n",
    "\n",
    "def _get_caps_odds(texts, mean_true, mean_fake):\n",
    "    num_caps = count_all_caps(texts).values\n",
    "    num_words = texts.str.split().str.len().values\n",
    "    cap_frequency = num_caps / num_words\n",
    "    text_odds = np.ones((len(cap_frequency), 2))\n",
    "    text_odds[cap_frequency < mean_true] = np.array([[4, 1]])\n",
    "    text_odds[cap_frequency > mean_fake] = np.array([[1, 4]])\n",
    "\n",
    "    mask = np.logical_and(cap_frequency >= mean_true, cap_frequency <= mean_fake)\n",
    "    dist_true = cap_frequency - mean_true\n",
    "    dist_fake = cap_frequency - mean_fake\n",
    "\n",
    "    text_odds[mask & (dist_true < dist_fake)] = np.array([[2, 3]])\n",
    "    text_odds[mask & (dist_true > dist_fake)] = np.array([[3, 2]])\n",
    "    return text_odds\n",
    "\n",
    "\n",
    "def get_caps_odds(df: pd.DataFrame):\n",
    "    text_odds = _get_caps_odds(df.text, mean_caps_title_true, mean_caps_title_fake) / 2\n",
    "    text_odds[text_odds < 1] = 1  # reduce difference between fake and true\n",
    "    title_odds = _get_caps_odds(df.title, mean_caps_title_true, mean_caps_title_fake)\n",
    "\n",
    "    return text_odds * title_odds"
   ]
  },
  {
   "cell_type": "code",
   "execution_count": 7,
   "metadata": {},
   "outputs": [
    {
     "name": "stdout",
     "output_type": "stream",
     "text": [
      "                                                                                                                         title  is_fake  true_odds  fake_odds\n",
      "23039                                Trump Just Got WRECKED By Chelsea Clinton Over His Dumbass Slavery Remarks (TWEETS/VIDEO)     True        2.0        4.0\n",
      "34854                                                    BREAKING: DNC CHARWOMAN Shouted Down In Chaos During Opening Remarks      True        1.5        4.0\n",
      "8574                                                               House Speaker Ryan: Khan family sacrifice should be honored    False        8.0        1.0\n",
      "37525                                        TUCKER ON COMEY’S FIRING: “Dictatorship by the unelected…that’s the REAL danger”      True        1.5        4.0\n",
      "41413  WHY IS THE MEDIA HIDING This Endorsement?…KKK Klan Leader On Hillary: “She’s A Democrat, The Klan Has ALWAYS Been A ...     True        2.0        4.0\n",
      "10367                                                   Clinton will call for stricter 'rules of origin' at Ohio campaign stop    False        8.0        1.0\n",
      "28423                                         House Republican Busted For Illegally Using Campaign Funds For Personal Expenses     True        8.0        1.0\n",
      "700                                                                Factbox: How the U.S. Senate and House tax proposals differ    False        6.0        1.0\n",
      "31234                                                 WOW! TOP SPONSORS OF NFL Issue Statements About National Anthem Protests     True        1.5        4.0\n",
      "25824                                                              Lawyer Shot And Killed His Wife, Blames Black Lives Matter      True        8.0        1.0\n"
     ]
    }
   ],
   "source": [
    "sample = df_merged.sample(10)\n",
    "sample[[\"true_odds\", \"fake_odds\"]] = get_caps_odds(sample)\n",
    "with pd.option_context(\"display.max_colwidth\", 120, \"expand_frame_repr\", False):\n",
    "    print(sample[[\"title\", \"is_fake\", \"true_odds\", \"fake_odds\"]])"
   ]
  },
  {
   "cell_type": "code",
   "execution_count": 8,
   "metadata": {},
   "outputs": [
    {
     "name": "stderr",
     "output_type": "stream",
     "text": [
      "/tmp/ipykernel_234884/335387911.py:32: RuntimeWarning: invalid value encountered in true_divide\n",
      "  cap_frequency = num_caps / num_words\n"
     ]
    },
    {
     "data": {
      "text/plain": [
       "0.6817705896767582"
      ]
     },
     "execution_count": 8,
     "metadata": {},
     "output_type": "execute_result"
    }
   ],
   "source": [
    "eval = df_merged.copy()\n",
    "eval[[\"true_odds\", \"fake_odds\"]] = get_caps_odds(eval)\n",
    "((eval.true_odds < eval.fake_odds) == eval.is_fake).mean()"
   ]
  },
  {
   "cell_type": "code",
   "execution_count": 9,
   "metadata": {},
   "outputs": [
    {
     "data": {
      "text/plain": [
       "array([[1.5, 4. ]])"
      ]
     },
     "execution_count": 9,
     "metadata": {},
     "output_type": "execute_result"
    }
   ],
   "source": [
    "get_caps_odds(df_merged.loc[[30540]])"
   ]
  },
  {
   "cell_type": "markdown",
   "metadata": {},
   "source": [
    "#### Keyword search"
   ]
  },
  {
   "cell_type": "code",
   "execution_count": 10,
   "metadata": {},
   "outputs": [],
   "source": [
    "# nlp = spacy.load(\"en_core_web_sm\")"
   ]
  },
  {
   "cell_type": "code",
   "execution_count": 11,
   "metadata": {},
   "outputs": [],
   "source": [
    "def extract_keywords(texts: pd.Series, mask):\n",
    "    keywords = Counter()\n",
    "    for doc in nlp.pipe(df_merged.text[mask].str.lower(), batch_size=100):\n",
    "        keywords.update(str(s).lower() for s in doc.ents)\n",
    "\n",
    "    return (\n",
    "        pd.DataFrame(keywords.items(), columns=[\"keyword\", \"count\"])\n",
    "        .sort_values(\"count\", ascending=False)\n",
    "        .reset_index(drop=True)\n",
    "    )"
   ]
  },
  {
   "cell_type": "code",
   "execution_count": 12,
   "metadata": {},
   "outputs": [],
   "source": [
    "# fake_keywords = extract_keywords(df_merged.text, df_merged.is_fake)\n",
    "# fake_keywords.head()"
   ]
  },
  {
   "cell_type": "code",
   "execution_count": 13,
   "metadata": {},
   "outputs": [],
   "source": [
    "# fake_keywords_title = extract_keywords(df_merged.title, df_merged.is_fake)\n",
    "# fake_keywords_title.head()"
   ]
  },
  {
   "cell_type": "code",
   "execution_count": 14,
   "metadata": {},
   "outputs": [],
   "source": [
    "# true_keywords = extract_keywords(df_merged.text, ~df_merged.is_fake)\n",
    "# true_keywords.head()"
   ]
  },
  {
   "cell_type": "code",
   "execution_count": 15,
   "metadata": {},
   "outputs": [],
   "source": [
    "# true_keywords_title = extract_keywords(df_merged.title, ~df_merged.is_fake)\n",
    "# true_keywords_title.head()"
   ]
  },
  {
   "cell_type": "code",
   "execution_count": 16,
   "metadata": {},
   "outputs": [],
   "source": [
    "# set(fake_keywords.head(100).keyword) - set(true_keywords.head(200).keyword)"
   ]
  },
  {
   "cell_type": "code",
   "execution_count": 17,
   "metadata": {},
   "outputs": [],
   "source": [
    "# set(fake_keywords_title.head(100).keyword) - set(true_keywords_title.head(200).keyword)"
   ]
  },
  {
   "cell_type": "markdown",
   "metadata": {},
   "source": [
    "Hm, maybe:  \n",
    "- cia makes sense to appear more in conspiracy theories/fake news.\n",
    "- islam knowing that most of fake news come from American right\n",
    "- Hillary Clinton is likely mentioned by both a lot, since the period is 2015-2017, but Bill Clinton is a surprise"
   ]
  },
  {
   "cell_type": "code",
   "execution_count": 18,
   "metadata": {},
   "outputs": [],
   "source": [
    "# set(true_keywords.head(100).keyword) - set(fake_keywords.head(200).keyword)"
   ]
  },
  {
   "cell_type": "code",
   "execution_count": 19,
   "metadata": {},
   "outputs": [],
   "source": [
    "# set(true_keywords.head(100).keyword) - set(fake_keywords.head(200).keyword)"
   ]
  },
  {
   "cell_type": "markdown",
   "metadata": {},
   "source": [
    "Much more international news. In this dataset fake news are about US politics."
   ]
  },
  {
   "cell_type": "code",
   "execution_count": 20,
   "metadata": {},
   "outputs": [],
   "source": [
    "true_keywords_set = {\n",
    "    \"beijing\",\n",
    "    \"britain\",\n",
    "    \"eu\",\n",
    "    \"japan\",\n",
    "    \"myanmar\",\n",
    "    \"north korean\",\n",
    "    \"puerto rico\",\n",
    "    \"south korea\",\n",
    "    \"taiwan\",\n",
    "    \"the european union\",\n",
    "    \"the united nations\",\n",
    "    \"turkish\",\n",
    "    \"u.n.\",\n",
    "}\n",
    "fake_keywords_set = set([\"conspiracy\", \"cia\", \"islam\", \"bill clinton\", \"video\", \"lol\", \"wow\"])\n",
    "\n",
    "\n",
    "def contains_keywords(text: str, keywords: set):\n",
    "    return sum(s.lower() in keywords for s in text.split())\n",
    "\n",
    "\n",
    "def _get_keyword_odds(texts: pd.Series):\n",
    "    true_keywords_count = texts.apply(\n",
    "        lambda x: contains_keywords(x, true_keywords_set)\n",
    "    ).values.reshape(-1, 1)\n",
    "    fake_keywords_count = texts.apply(\n",
    "        lambda x: contains_keywords(x, fake_keywords_set)\n",
    "    ).values.reshape(-1, 1)\n",
    "    return np.concatenate([true_keywords_count + 1, fake_keywords_count + 1], axis=1)\n",
    "\n",
    "\n",
    "def get_keyword_odds(df: pd.DataFrame):\n",
    "    text_odds = _get_keyword_odds(df.text)\n",
    "    title_odds = _get_keyword_odds(df.title)\n",
    "    return text_odds * title_odds"
   ]
  },
  {
   "cell_type": "code",
   "execution_count": 21,
   "metadata": {},
   "outputs": [
    {
     "name": "stdout",
     "output_type": "stream",
     "text": [
      "                                                                                                                         title  is_fake  true_odds  fake_odds\n",
      "34264  ILLEGAL ALIEN Who Helps Illegals Stay In U.S. ARRESTED For Drunk Driving…Why The Left May Not Be Able To Stop Her De...     True          1          1\n",
      "15527                                                                              Pakistan debates how to fill education gaps    False          1          1\n",
      "33298         BRAVO! TRUMP’S INAUGURAL BISHOP SPEAKS OUT: “I’ve been called a sellout” BUT “We’re supposed to love everyone!”      True          1          1\n",
      "30588                      ATLANTA: PANDEMONIUM As World’s Largest Airport Goes DARK…Airport Evacuated…1,161 Flights Canceled      True          1          1\n",
      "34513                                    HILLARY IS FURIOUS OVER EMAIL HACKS…Openly Threatens War With Russia…Media Is SILENT      True          1          1\n",
      "2040                                                               U.S. judge throws out Texas voter ID law supported by Trump    False          1          1\n",
      "9875                                                              U.S., Iran discuss fulfilling nuclear deal pledges to Tehran    False          2          1\n",
      "12457                                                     Mexico's presidential front-runner vows more welfare, formalizes bid    False          1          1\n",
      "30288                                               Elizabeth Warren Rips Into Jeb Bush For Taking ‘Disgusting’ Money (IMAGES)     True          1          1\n",
      "901                                                    Trump calls for ending visa program after N.Y. attack, blasts Democrats    False          1          1\n"
     ]
    }
   ],
   "source": [
    "sample = df_merged.sample(10)\n",
    "sample[[\"true_odds\", \"fake_odds\"]] = get_keyword_odds(sample)\n",
    "with pd.option_context(\"display.max_colwidth\", 120, \"expand_frame_repr\", False):\n",
    "    print(sample[[\"title\", \"is_fake\", \"true_odds\", \"fake_odds\"]])"
   ]
  },
  {
   "cell_type": "markdown",
   "metadata": {},
   "source": [
    "#### All odds together"
   ]
  },
  {
   "cell_type": "code",
   "execution_count": 22,
   "metadata": {},
   "outputs": [],
   "source": [
    "def get_odds(df: pd.DataFrame):\n",
    "    odd_funcs = [get_caps_odds, get_keyword_odds]\n",
    "    odds = np.ones((len(df), 2))\n",
    "    for func in odd_funcs:\n",
    "        odds *= func(df)\n",
    "    return odds\n",
    "\n",
    "def predict_proba(df: pd.DataFrame):\n",
    "    odds = get_odds(df)\n",
    "    return odds / odds.sum(axis=1, keepdims=True)\n",
    "\n",
    "\n",
    "def predict(df: pd.DataFrame):\n",
    "    return predict_proba(df).argmax(axis=1)"
   ]
  },
  {
   "cell_type": "code",
   "execution_count": 23,
   "metadata": {},
   "outputs": [
    {
     "name": "stderr",
     "output_type": "stream",
     "text": [
      "/tmp/ipykernel_234884/335387911.py:32: RuntimeWarning: invalid value encountered in true_divide\n",
      "  cap_frequency = num_caps / num_words\n"
     ]
    },
    {
     "data": {
      "text/plain": [
       "0.6911270021608857"
      ]
     },
     "execution_count": 23,
     "metadata": {},
     "output_type": "execute_result"
    }
   ],
   "source": [
    "eval = df_merged.copy()\n",
    "eval[[\"true_odds\", \"fake_odds\"]] = get_odds(eval)\n",
    "((eval.true_odds < eval.fake_odds) == eval.is_fake).mean()"
   ]
  },
  {
   "cell_type": "markdown",
   "metadata": {},
   "source": [
    "Ok, keyword extraction was work and didn't help much."
   ]
  },
  {
   "cell_type": "markdown",
   "metadata": {},
   "source": [
    "### Classical models"
   ]
  },
  {
   "cell_type": "code",
   "execution_count": 24,
   "metadata": {},
   "outputs": [
    {
     "name": "stderr",
     "output_type": "stream",
     "text": [
      "Warning : `load_model` does not return WordVectorModel or SupervisedModel any more, but a `FastText` object which is very similar.\n"
     ]
    }
   ],
   "source": [
    "pretrained_fasttext = fasttext.load_model(str(BASE_MODEL_DIR / 'cc.en.300.bin'))"
   ]
  },
  {
   "cell_type": "code",
   "execution_count": 25,
   "metadata": {},
   "outputs": [],
   "source": [
    "encodings = np.array([pretrained_fasttext.get_sentence_vector(s.lower()) for s in df_merged.text])"
   ]
  },
  {
   "cell_type": "code",
   "execution_count": 26,
   "metadata": {},
   "outputs": [
    {
     "data": {
      "text/plain": [
       "LogisticRegression(max_iter=1000)"
      ]
     },
     "execution_count": 26,
     "metadata": {},
     "output_type": "execute_result"
    }
   ],
   "source": [
    "logistic_regression = LogisticRegression(solver='lbfgs', max_iter=1000)\n",
    "logistic_regression.fit(encodings, df_merged.is_fake)"
   ]
  },
  {
   "cell_type": "code",
   "execution_count": 27,
   "metadata": {},
   "outputs": [
    {
     "data": {
      "text/plain": [
       "0.9374902537369957"
      ]
     },
     "execution_count": 27,
     "metadata": {},
     "output_type": "execute_result"
    }
   ],
   "source": [
    "(logistic_regression.predict(encodings) == df_merged.is_fake).mean()"
   ]
  },
  {
   "cell_type": "markdown",
   "metadata": {},
   "source": [
    "Dataset is horrendous. Distinguishing real news from fake news could be pretty hard, but in this case real news only comes from Reuters and fake news come from random sources, mostly twitter. They are very different and even after cleaning up dataset a bit, simple logistic regression achieves 94.7% accuracy without any feature engineering."
   ]
  },
  {
   "cell_type": "markdown",
   "metadata": {},
   "source": [
    "#### Evaluation against nela-gt-2018"
   ]
  },
  {
   "cell_type": "code",
   "execution_count": 28,
   "metadata": {},
   "outputs": [
    {
     "data": {
      "text/html": [
       "<div>\n",
       "<style scoped>\n",
       "    .dataframe tbody tr th:only-of-type {\n",
       "        vertical-align: middle;\n",
       "    }\n",
       "\n",
       "    .dataframe tbody tr th {\n",
       "        vertical-align: top;\n",
       "    }\n",
       "\n",
       "    .dataframe thead th {\n",
       "        text-align: right;\n",
       "    }\n",
       "</style>\n",
       "<table border=\"1\" class=\"dataframe\">\n",
       "  <thead>\n",
       "    <tr style=\"text-align: right;\">\n",
       "      <th></th>\n",
       "      <th>path</th>\n",
       "      <th>title</th>\n",
       "      <th>date</th>\n",
       "      <th>source</th>\n",
       "      <th>source_score</th>\n",
       "    </tr>\n",
       "  </thead>\n",
       "  <tbody>\n",
       "    <tr>\n",
       "      <th>0</th>\n",
       "      <td>/home/julius/lp/Turing/jjuoda-DL.4/data/raw/NE...</td>\n",
       "      <td>Dozens of manufacturing companies testified ab...</td>\n",
       "      <td>2018-09-08</td>\n",
       "      <td>Business Insider</td>\n",
       "      <td>2.0</td>\n",
       "    </tr>\n",
       "    <tr>\n",
       "      <th>1</th>\n",
       "      <td>/home/julius/lp/Turing/jjuoda-DL.4/data/raw/NE...</td>\n",
       "      <td>Pentagon routinely briefs Trump on military op...</td>\n",
       "      <td>2018-09-08</td>\n",
       "      <td>RT</td>\n",
       "      <td>0.0</td>\n",
       "    </tr>\n",
       "    <tr>\n",
       "      <th>2</th>\n",
       "      <td>/home/julius/lp/Turing/jjuoda-DL.4/data/raw/NE...</td>\n",
       "      <td>US Air Force determining facts appropriate pro...</td>\n",
       "      <td>2018-09-08</td>\n",
       "      <td>RT</td>\n",
       "      <td>0.0</td>\n",
       "    </tr>\n",
       "    <tr>\n",
       "      <th>3</th>\n",
       "      <td>/home/julius/lp/Turing/jjuoda-DL.4/data/raw/NE...</td>\n",
       "      <td>Pentagon designing Glide Breaker interceptor t...</td>\n",
       "      <td>2018-09-08</td>\n",
       "      <td>RT</td>\n",
       "      <td>0.0</td>\n",
       "    </tr>\n",
       "    <tr>\n",
       "      <th>4</th>\n",
       "      <td>/home/julius/lp/Turing/jjuoda-DL.4/data/raw/NE...</td>\n",
       "      <td>Developing nation US cant afford to subsidize ...</td>\n",
       "      <td>2018-09-08</td>\n",
       "      <td>RT</td>\n",
       "      <td>0.0</td>\n",
       "    </tr>\n",
       "  </tbody>\n",
       "</table>\n",
       "</div>"
      ],
      "text/plain": [
       "                                                path  \\\n",
       "0  /home/julius/lp/Turing/jjuoda-DL.4/data/raw/NE...   \n",
       "1  /home/julius/lp/Turing/jjuoda-DL.4/data/raw/NE...   \n",
       "2  /home/julius/lp/Turing/jjuoda-DL.4/data/raw/NE...   \n",
       "3  /home/julius/lp/Turing/jjuoda-DL.4/data/raw/NE...   \n",
       "4  /home/julius/lp/Turing/jjuoda-DL.4/data/raw/NE...   \n",
       "\n",
       "                                               title        date  \\\n",
       "0  Dozens of manufacturing companies testified ab...  2018-09-08   \n",
       "1  Pentagon routinely briefs Trump on military op...  2018-09-08   \n",
       "2  US Air Force determining facts appropriate pro...  2018-09-08   \n",
       "3  Pentagon designing Glide Breaker interceptor t...  2018-09-08   \n",
       "4  Developing nation US cant afford to subsidize ...  2018-09-08   \n",
       "\n",
       "             source  source_score  \n",
       "0  Business Insider           2.0  \n",
       "1                RT           0.0  \n",
       "2                RT           0.0  \n",
       "3                RT           0.0  \n",
       "4                RT           0.0  "
      ]
     },
     "execution_count": 28,
     "metadata": {},
     "output_type": "execute_result"
    }
   ],
   "source": [
    "nela_gt_2018_articles_df = pd.read_csv(\n",
    "    BASE_DATA_DIR / \"interim\" / \"nela-gt-2018-articles.csv\", index_col=0\n",
    ")\n",
    "nela_gt_2018_articles_df.head()"
   ]
  },
  {
   "cell_type": "code",
   "execution_count": 29,
   "metadata": {},
   "outputs": [],
   "source": [
    "nela_gt_2018_articles_df[\"is_fake\"] = np.nan"
   ]
  },
  {
   "cell_type": "code",
   "execution_count": 30,
   "metadata": {},
   "outputs": [],
   "source": [
    "def chunks(l, n):\n",
    "    for i in range(0, len(l), n):\n",
    "        yield l[i:i + n]\n",
    "\n",
    "def batched_preprocessing(articles_df: pd.DataFrame, ft_encoder, batch_size: int=128):\n",
    "    for batch_indices in tqdm(chunks(articles_df.index, batch_size)):\n",
    "        text_encodings = []\n",
    "        for article_path in articles_df.loc[batch_indices].path:\n",
    "            with open(article_path, \"r\") as f:\n",
    "                text = f.read().replace(\"\\n\", \" \")\n",
    "            text_encodings.append(ft_encoder.get_sentence_vector(text.lower()))\n",
    "        text_encodings = np.array(text_encodings)\n",
    "        title_encodings = np.array([ft_encoder.get_sentence_vector(s.lower()) for s in articles_df.loc[batch_indices].title])\n",
    "        encodings = np.concatenate([text_encodings, title_encodings], axis=1)\n",
    "        yield encodings, articles_df.loc[batch_indices].is_fake\n",
    "\n",
    "def batched_predictions(articles: pd.DataFrame, ft_encoder, model, batch_size=128):\n",
    "    for text_encodings, _ in batched_preprocessing(articles, ft_encoder, batch_size):\n",
    "        preds = model.predict_proba(text_encodings)\n",
    "        yield preds\n",
    "\n",
    "def batched_training(articles_df: pd.DataFrame, ft_encoder, model, batch_size=128):\n",
    "    for text_encodings, is_fake in batched_preprocessing(articles_df, ft_encoder, batch_size):\n",
    "        sample_weight = np.ones(len(is_fake))\n",
    "        num_fake = is_fake.sum()\n",
    "        sample_weight[is_fake.astype(bool)] = (len(is_fake) - num_fake) / num_fake\n",
    "        model.partial_fit(text_encodings, is_fake, sample_weight=sample_weight, classes=[0, 1])"
   ]
  },
  {
   "cell_type": "code",
   "execution_count": 31,
   "metadata": {},
   "outputs": [],
   "source": [
    "# predicted_probas = np.concatenate(list(batched_predictions(nela_gt_2018_articles_df, pretrained_fasttext, logistic_regression)))"
   ]
  },
  {
   "cell_type": "code",
   "execution_count": 32,
   "metadata": {},
   "outputs": [],
   "source": [
    "# ax = sns.boxplot(x=nela_gt_2018_articles_df.source_score, y=predicted_probas[:, 0])\n",
    "\n",
    "# ax.set_ylabel(\"Probability of being fake\")\n",
    "\n",
    "# plt.savefig(BASE_DATA_DIR / \"processed\" / \"nela-gt-2018-articles-probability-of-being-fake.png\")"
   ]
  },
  {
   "cell_type": "markdown",
   "metadata": {},
   "source": [
    "I am not sure I assigned scores to sources correctly, however, I'm pretty sure that as we increase source score, proportion of reliable news increases. As I feared, model trained on the original dataset generalizes poorly. Let's train our model on articles I'm most confident about."
   ]
  },
  {
   "cell_type": "code",
   "execution_count": 33,
   "metadata": {},
   "outputs": [
    {
     "data": {
      "text/html": [
       "<div>\n",
       "<style scoped>\n",
       "    .dataframe tbody tr th:only-of-type {\n",
       "        vertical-align: middle;\n",
       "    }\n",
       "\n",
       "    .dataframe tbody tr th {\n",
       "        vertical-align: top;\n",
       "    }\n",
       "\n",
       "    .dataframe thead th {\n",
       "        text-align: right;\n",
       "    }\n",
       "</style>\n",
       "<table border=\"1\" class=\"dataframe\">\n",
       "  <thead>\n",
       "    <tr style=\"text-align: right;\">\n",
       "      <th></th>\n",
       "      <th>source</th>\n",
       "      <th>score</th>\n",
       "    </tr>\n",
       "  </thead>\n",
       "  <tbody>\n",
       "    <tr>\n",
       "      <th>0</th>\n",
       "      <td>21stCenturyWire</td>\n",
       "      <td>1.0</td>\n",
       "    </tr>\n",
       "    <tr>\n",
       "      <th>1</th>\n",
       "      <td>ABC News</td>\n",
       "      <td>2.5</td>\n",
       "    </tr>\n",
       "    <tr>\n",
       "      <th>2</th>\n",
       "      <td>AMERICAblog News</td>\n",
       "      <td>0.0</td>\n",
       "    </tr>\n",
       "    <tr>\n",
       "      <th>3</th>\n",
       "      <td>Activist Post</td>\n",
       "      <td>1.0</td>\n",
       "    </tr>\n",
       "    <tr>\n",
       "      <th>4</th>\n",
       "      <td>Addicting Info</td>\n",
       "      <td>1.0</td>\n",
       "    </tr>\n",
       "  </tbody>\n",
       "</table>\n",
       "</div>"
      ],
      "text/plain": [
       "             source  score\n",
       "0   21stCenturyWire    1.0\n",
       "1          ABC News    2.5\n",
       "2  AMERICAblog News    0.0\n",
       "3     Activist Post    1.0\n",
       "4    Addicting Info    1.0"
      ]
     },
     "execution_count": 33,
     "metadata": {},
     "output_type": "execute_result"
    }
   ],
   "source": [
    "nela_gt_2018_scores_df = pd.read_csv(BASE_DATA_DIR / \"interim\" / \"nela-gt-2018-scores.csv\")\n",
    "nela_gt_2018_scores_df.head()"
   ]
  },
  {
   "cell_type": "code",
   "execution_count": 34,
   "metadata": {},
   "outputs": [
    {
     "data": {
      "text/html": [
       "<div>\n",
       "<style scoped>\n",
       "    .dataframe tbody tr th:only-of-type {\n",
       "        vertical-align: middle;\n",
       "    }\n",
       "\n",
       "    .dataframe tbody tr th {\n",
       "        vertical-align: top;\n",
       "    }\n",
       "\n",
       "    .dataframe thead th {\n",
       "        text-align: right;\n",
       "    }\n",
       "</style>\n",
       "<table border=\"1\" class=\"dataframe\">\n",
       "  <thead>\n",
       "    <tr style=\"text-align: right;\">\n",
       "      <th></th>\n",
       "      <th>source</th>\n",
       "      <th>score</th>\n",
       "    </tr>\n",
       "  </thead>\n",
       "  <tbody>\n",
       "    <tr>\n",
       "      <th>1</th>\n",
       "      <td>ABC News</td>\n",
       "      <td>2.5</td>\n",
       "    </tr>\n",
       "    <tr>\n",
       "      <th>8</th>\n",
       "      <td>BBC</td>\n",
       "      <td>2.5</td>\n",
       "    </tr>\n",
       "    <tr>\n",
       "      <th>16</th>\n",
       "      <td>CBS News</td>\n",
       "      <td>2.5</td>\n",
       "    </tr>\n",
       "    <tr>\n",
       "      <th>18</th>\n",
       "      <td>CNN</td>\n",
       "      <td>2.5</td>\n",
       "    </tr>\n",
       "    <tr>\n",
       "      <th>81</th>\n",
       "      <td>NPR</td>\n",
       "      <td>2.5</td>\n",
       "    </tr>\n",
       "    <tr>\n",
       "      <th>82</th>\n",
       "      <td>National Review</td>\n",
       "      <td>2.5</td>\n",
       "    </tr>\n",
       "    <tr>\n",
       "      <th>86</th>\n",
       "      <td>New Yorker</td>\n",
       "      <td>2.5</td>\n",
       "    </tr>\n",
       "    <tr>\n",
       "      <th>94</th>\n",
       "      <td>PBS</td>\n",
       "      <td>2.5</td>\n",
       "    </tr>\n",
       "    <tr>\n",
       "      <th>146</th>\n",
       "      <td>The Guardian</td>\n",
       "      <td>2.5</td>\n",
       "    </tr>\n",
       "    <tr>\n",
       "      <th>149</th>\n",
       "      <td>The Huffington Post</td>\n",
       "      <td>2.5</td>\n",
       "    </tr>\n",
       "    <tr>\n",
       "      <th>158</th>\n",
       "      <td>The New York Times</td>\n",
       "      <td>2.5</td>\n",
       "    </tr>\n",
       "    <tr>\n",
       "      <th>176</th>\n",
       "      <td>USA Today</td>\n",
       "      <td>2.5</td>\n",
       "    </tr>\n",
       "    <tr>\n",
       "      <th>183</th>\n",
       "      <td>Washington Post</td>\n",
       "      <td>2.5</td>\n",
       "    </tr>\n",
       "    <tr>\n",
       "      <th>188</th>\n",
       "      <td>Yahoo News</td>\n",
       "      <td>2.5</td>\n",
       "    </tr>\n",
       "  </tbody>\n",
       "</table>\n",
       "</div>"
      ],
      "text/plain": [
       "                  source  score\n",
       "1               ABC News    2.5\n",
       "8                    BBC    2.5\n",
       "16              CBS News    2.5\n",
       "18                   CNN    2.5\n",
       "81                   NPR    2.5\n",
       "82       National Review    2.5\n",
       "86            New Yorker    2.5\n",
       "94                   PBS    2.5\n",
       "146         The Guardian    2.5\n",
       "149  The Huffington Post    2.5\n",
       "158   The New York Times    2.5\n",
       "176            USA Today    2.5\n",
       "183      Washington Post    2.5\n",
       "188           Yahoo News    2.5"
      ]
     },
     "execution_count": 34,
     "metadata": {},
     "output_type": "execute_result"
    }
   ],
   "source": [
    "reliable_sources = nela_gt_2018_scores_df[nela_gt_2018_scores_df.score > 2]\n",
    "unreliable_sources = nela_gt_2018_scores_df[nela_gt_2018_scores_df.score <= -2]\n",
    "\n",
    "reliable_sources"
   ]
  },
  {
   "cell_type": "code",
   "execution_count": 35,
   "metadata": {},
   "outputs": [
    {
     "data": {
      "text/html": [
       "<div>\n",
       "<style scoped>\n",
       "    .dataframe tbody tr th:only-of-type {\n",
       "        vertical-align: middle;\n",
       "    }\n",
       "\n",
       "    .dataframe tbody tr th {\n",
       "        vertical-align: top;\n",
       "    }\n",
       "\n",
       "    .dataframe thead th {\n",
       "        text-align: right;\n",
       "    }\n",
       "</style>\n",
       "<table border=\"1\" class=\"dataframe\">\n",
       "  <thead>\n",
       "    <tr style=\"text-align: right;\">\n",
       "      <th></th>\n",
       "      <th>source</th>\n",
       "      <th>score</th>\n",
       "    </tr>\n",
       "  </thead>\n",
       "  <tbody>\n",
       "    <tr>\n",
       "      <th>11</th>\n",
       "      <td>Bipartisan Report</td>\n",
       "      <td>-2.0</td>\n",
       "    </tr>\n",
       "    <tr>\n",
       "      <th>13</th>\n",
       "      <td>Breitbart</td>\n",
       "      <td>-3.0</td>\n",
       "    </tr>\n",
       "    <tr>\n",
       "      <th>31</th>\n",
       "      <td>Daily Mail</td>\n",
       "      <td>-2.0</td>\n",
       "    </tr>\n",
       "    <tr>\n",
       "      <th>96</th>\n",
       "      <td>Pamela Geller Report</td>\n",
       "      <td>-2.0</td>\n",
       "    </tr>\n",
       "    <tr>\n",
       "      <th>145</th>\n",
       "      <td>The Gateway Pundit</td>\n",
       "      <td>-2.0</td>\n",
       "    </tr>\n",
       "  </tbody>\n",
       "</table>\n",
       "</div>"
      ],
      "text/plain": [
       "                   source  score\n",
       "11      Bipartisan Report   -2.0\n",
       "13              Breitbart   -3.0\n",
       "31             Daily Mail   -2.0\n",
       "96   Pamela Geller Report   -2.0\n",
       "145    The Gateway Pundit   -2.0"
      ]
     },
     "execution_count": 35,
     "metadata": {},
     "output_type": "execute_result"
    }
   ],
   "source": [
    "unreliable_sources"
   ]
  },
  {
   "cell_type": "code",
   "execution_count": 36,
   "metadata": {},
   "outputs": [],
   "source": [
    "val_unreliable_source = unreliable_sources.iloc[0]\n",
    "train_unreliable_sources = unreliable_sources.iloc[1:]\n",
    "\n",
    "val_reliable_source = reliable_sources.iloc[0]\n",
    "train_reliable_sources = reliable_sources.iloc[1:]"
   ]
  },
  {
   "cell_type": "code",
   "execution_count": 37,
   "metadata": {},
   "outputs": [
    {
     "name": "stdout",
     "output_type": "stream",
     "text": [
      "Num articles in val unreliable source: 4060\n",
      "Num articles in val reliable source: 2808\n"
     ]
    }
   ],
   "source": [
    "print(f\"Num articles in val unreliable source: {sum(nela_gt_2018_articles_df.source == val_unreliable_source.source)}\")\n",
    "print(f\"Num articles in val reliable source: {sum(nela_gt_2018_articles_df.source == val_reliable_source.source)}\")"
   ]
  },
  {
   "cell_type": "code",
   "execution_count": 38,
   "metadata": {},
   "outputs": [],
   "source": [
    "model = SGDClassifier(loss=\"log\")\n",
    "# model.partial_fit(encodings, df_merged.is_fake, classes=[0, 1])"
   ]
  },
  {
   "cell_type": "code",
   "execution_count": 39,
   "metadata": {},
   "outputs": [
    {
     "data": {
      "text/html": [
       "<div>\n",
       "<style scoped>\n",
       "    .dataframe tbody tr th:only-of-type {\n",
       "        vertical-align: middle;\n",
       "    }\n",
       "\n",
       "    .dataframe tbody tr th {\n",
       "        vertical-align: top;\n",
       "    }\n",
       "\n",
       "    .dataframe thead th {\n",
       "        text-align: right;\n",
       "    }\n",
       "</style>\n",
       "<table border=\"1\" class=\"dataframe\">\n",
       "  <thead>\n",
       "    <tr style=\"text-align: right;\">\n",
       "      <th></th>\n",
       "      <th>path</th>\n",
       "      <th>title</th>\n",
       "      <th>date</th>\n",
       "      <th>source</th>\n",
       "      <th>source_score</th>\n",
       "      <th>is_fake</th>\n",
       "    </tr>\n",
       "  </thead>\n",
       "  <tbody>\n",
       "    <tr>\n",
       "      <th>379178</th>\n",
       "      <td>/home/julius/lp/Turing/jjuoda-DL.4/data/raw/NE...</td>\n",
       "      <td>What does Jeremy Hunt want from the United States</td>\n",
       "      <td>2018-08-22</td>\n",
       "      <td>BBC</td>\n",
       "      <td>2.5</td>\n",
       "      <td>False</td>\n",
       "    </tr>\n",
       "    <tr>\n",
       "      <th>286178</th>\n",
       "      <td>/home/julius/lp/Turing/jjuoda-DL.4/data/raw/NE...</td>\n",
       "      <td>What Its Like to Talk with North Korea</td>\n",
       "      <td>2018-04-27</td>\n",
       "      <td>National Review</td>\n",
       "      <td>2.5</td>\n",
       "      <td>False</td>\n",
       "    </tr>\n",
       "    <tr>\n",
       "      <th>54714</th>\n",
       "      <td>/home/julius/lp/Turing/jjuoda-DL.4/data/raw/NE...</td>\n",
       "      <td>Donald Trumps Weird Oval Office Pose Sparks Hi...</td>\n",
       "      <td>2018-08-31</td>\n",
       "      <td>The Huffington Post</td>\n",
       "      <td>2.5</td>\n",
       "      <td>False</td>\n",
       "    </tr>\n",
       "    <tr>\n",
       "      <th>88522</th>\n",
       "      <td>/home/julius/lp/Turing/jjuoda-DL.4/data/raw/NE...</td>\n",
       "      <td>Paul Manafortaposs trial a hit in the Virginia...</td>\n",
       "      <td>2018-08-10</td>\n",
       "      <td>USA Today</td>\n",
       "      <td>2.5</td>\n",
       "      <td>False</td>\n",
       "    </tr>\n",
       "    <tr>\n",
       "      <th>105001</th>\n",
       "      <td>/home/julius/lp/Turing/jjuoda-DL.4/data/raw/NE...</td>\n",
       "      <td>Kids These Days Unruly Goats Graze Hell Across...</td>\n",
       "      <td>2018-08-03</td>\n",
       "      <td>NPR</td>\n",
       "      <td>2.5</td>\n",
       "      <td>False</td>\n",
       "    </tr>\n",
       "  </tbody>\n",
       "</table>\n",
       "</div>"
      ],
      "text/plain": [
       "                                                     path  \\\n",
       "379178  /home/julius/lp/Turing/jjuoda-DL.4/data/raw/NE...   \n",
       "286178  /home/julius/lp/Turing/jjuoda-DL.4/data/raw/NE...   \n",
       "54714   /home/julius/lp/Turing/jjuoda-DL.4/data/raw/NE...   \n",
       "88522   /home/julius/lp/Turing/jjuoda-DL.4/data/raw/NE...   \n",
       "105001  /home/julius/lp/Turing/jjuoda-DL.4/data/raw/NE...   \n",
       "\n",
       "                                                    title        date  \\\n",
       "379178  What does Jeremy Hunt want from the United States  2018-08-22   \n",
       "286178             What Its Like to Talk with North Korea  2018-04-27   \n",
       "54714   Donald Trumps Weird Oval Office Pose Sparks Hi...  2018-08-31   \n",
       "88522   Paul Manafortaposs trial a hit in the Virginia...  2018-08-10   \n",
       "105001  Kids These Days Unruly Goats Graze Hell Across...  2018-08-03   \n",
       "\n",
       "                     source  source_score  is_fake  \n",
       "379178                  BBC           2.5    False  \n",
       "286178      National Review           2.5    False  \n",
       "54714   The Huffington Post           2.5    False  \n",
       "88522             USA Today           2.5    False  \n",
       "105001                  NPR           2.5    False  "
      ]
     },
     "execution_count": 39,
     "metadata": {},
     "output_type": "execute_result"
    }
   ],
   "source": [
    "train_sources = pd.concat([train_reliable_sources, train_unreliable_sources])\n",
    "train_articles_df = nela_gt_2018_articles_df[nela_gt_2018_articles_df.source.isin(train_sources.source)].copy()\n",
    "train_articles_df[\"is_fake\"] = train_articles_df.source_score < 0\n",
    "train_articles_df = train_articles_df.sample(frac=1)  # shuffle"
   ]
  },
  {
   "cell_type": "code",
   "execution_count": 56,
   "metadata": {},
   "outputs": [],
   "source": [
    "for index, article in train_articles_df.iterrows():\n",
    "    with open(article.path, \"r\") as f:\n",
    "        text = f.read().replace(\"\\n\", \" \")\n",
    "    train_articles_df.loc[index, \"text\"] = text"
   ]
  },
  {
   "cell_type": "code",
   "execution_count": 41,
   "metadata": {},
   "outputs": [],
   "source": [
    "val_sources = pd.concat([val_reliable_source, val_unreliable_source])\n",
    "val_articles_df = nela_gt_2018_articles_df[nela_gt_2018_articles_df.source.isin(val_sources.source)].copy()\n",
    "val_articles_df[\"is_fake\"] = (val_articles_df.source_score < 0).astype(int)"
   ]
  },
  {
   "cell_type": "code",
   "execution_count": 58,
   "metadata": {},
   "outputs": [],
   "source": [
    "for index, article in val_articles_df.iterrows():\n",
    "    with open(article.path, \"r\") as f:\n",
    "        text = f.read().replace(\"\\n\", \" \")\n",
    "    val_articles_df.loc[index, \"text\"] = text"
   ]
  },
  {
   "cell_type": "code",
   "execution_count": 42,
   "metadata": {},
   "outputs": [
    {
     "name": "stderr",
     "output_type": "stream",
     "text": [
      "592it [01:02,  9.49it/s]\n",
      "54it [00:09,  5.59it/s]\n"
     ]
    },
    {
     "name": "stdout",
     "output_type": "stream",
     "text": [
      "Epoch 0 val accuracy: 0.2925160163075131\n"
     ]
    },
    {
     "name": "stderr",
     "output_type": "stream",
     "text": [
      "592it [00:58, 10.15it/s]\n",
      "54it [00:06,  8.24it/s]\n"
     ]
    },
    {
     "name": "stdout",
     "output_type": "stream",
     "text": [
      "Epoch 1 val accuracy: 0.3031450203843914\n"
     ]
    },
    {
     "name": "stderr",
     "output_type": "stream",
     "text": [
      "592it [00:57, 10.25it/s]\n",
      "54it [00:06,  8.36it/s]\n"
     ]
    },
    {
     "name": "stdout",
     "output_type": "stream",
     "text": [
      "Epoch 2 val accuracy: 0.30023296447291786\n"
     ]
    },
    {
     "name": "stderr",
     "output_type": "stream",
     "text": [
      "592it [01:02,  9.40it/s]\n",
      "54it [00:07,  7.37it/s]\n"
     ]
    },
    {
     "name": "stdout",
     "output_type": "stream",
     "text": [
      "Epoch 3 val accuracy: 0.3197437390797903\n"
     ]
    },
    {
     "name": "stderr",
     "output_type": "stream",
     "text": [
      "592it [00:58, 10.08it/s]\n",
      "54it [00:06,  8.04it/s]"
     ]
    },
    {
     "name": "stdout",
     "output_type": "stream",
     "text": [
      "Epoch 4 val accuracy: 0.31887012230634826\n"
     ]
    },
    {
     "name": "stderr",
     "output_type": "stream",
     "text": [
      "\n"
     ]
    }
   ],
   "source": [
    "for epoch in range(5):\n",
    "    batched_training(train_articles_df, pretrained_fasttext, model, batch_size=128)\n",
    "    val_preds = np.concatenate(list(batched_predictions(val_articles_df, pretrained_fasttext, model, batch_size=128)))\n",
    "    val_acc = ((val_preds[:, 0] > 0.5) == val_articles_df.is_fake).mean()\n",
    "    print(f\"Epoch {epoch} val accuracy: {val_acc}\")"
   ]
  },
  {
   "cell_type": "code",
   "execution_count": 43,
   "metadata": {},
   "outputs": [
    {
     "name": "stderr",
     "output_type": "stream",
     "text": [
      "8it [00:03,  2.42it/s]\n"
     ]
    }
   ],
   "source": [
    "visual_check = nela_gt_2018_articles_df.sample(n=1000)\n",
    "predicted_probas = np.concatenate(list(batched_predictions(visual_check, pretrained_fasttext, model, batch_size=128)))"
   ]
  },
  {
   "cell_type": "code",
   "execution_count": 44,
   "metadata": {},
   "outputs": [
    {
     "data": {
      "image/png": "[encoded data removed]",
      "text/plain": [
       "<Figure size 432x288 with 1 Axes>"
      ]
     },
     "metadata": {},
     "output_type": "display_data"
    }
   ],
   "source": [
    "ax = sns.boxplot(x=visual_check.source_score, y=predicted_probas[:, 0])\n",
    "\n",
    "ax.set_ylabel(\"Probability of being fake\")\n",
    "\n",
    "plt.savefig(BASE_DATA_DIR / \"processed\" / \"trained_nela-gt-2018-articles-probability-of-being-fake.png\")"
   ]
  },
  {
   "cell_type": "markdown",
   "metadata": {},
   "source": [
    "Model does have potential to separate true stories from fake ones. At least it's performance on training set is not absolutely atrocious.\n",
    "\n",
    "Now I have two ideas:\n",
    "1. I'm representing whole article as 300 numbers. I could give my model more information\n",
    "2. Data might not be linearly separable, I can try more complex model.\n",
    "\n",
    "Solution 2. is simpler to code, so I'll go with it first."
   ]
  },
  {
   "cell_type": "markdown",
   "metadata": {},
   "source": [
    "#### LightGBM"
   ]
  },
  {
   "cell_type": "code",
   "execution_count": 74,
   "metadata": {},
   "outputs": [],
   "source": [
    "train_encodings_text = np.stack([pretrained_fasttext.get_sentence_vector(article.text) for _, article in train_articles_df.iterrows()])\n",
    "train_encodings_title = np.stack([pretrained_fasttext.get_sentence_vector(article.title) for _, article in train_articles_df.iterrows()])\n",
    "train_encodings = np.concatenate([train_encodings_text, train_encodings_title], axis=1)\n",
    "\n",
    "val_encodings_text = np.stack([pretrained_fasttext.get_sentence_vector(article.text) for _, article in val_articles_df.iterrows()])\n",
    "val_encodings_title = np.stack([pretrained_fasttext.get_sentence_vector(article.title) for _, article in val_articles_df.iterrows()])\n",
    "val_encodings = np.concatenate([val_encodings_text, val_encodings_title], axis=1)"
   ]
  },
  {
   "cell_type": "code",
   "execution_count": 76,
   "metadata": {},
   "outputs": [],
   "source": [
    "train_weight = np.ones(len(train_articles_df.is_fake))\n",
    "num_fake = train_articles_df.is_fake.sum()\n",
    "train_weight[train_articles_df.is_fake.astype(bool)] = (len(train_articles_df) - num_fake) / num_fake\n",
    "\n",
    "val_weight = np.ones(len(val_articles_df.is_fake))\n",
    "num_fake = val_articles_df.is_fake.sum()\n",
    "val_weight[val_articles_df.is_fake.astype(bool)] = (len(val_articles_df) - num_fake) / num_fake"
   ]
  },
  {
   "cell_type": "code",
   "execution_count": 77,
   "metadata": {},
   "outputs": [],
   "source": [
    "train_dataset = lgb.Dataset(train_encodings, label=train_articles_df.is_fake, weight=train_weight)\n",
    "val_dataset = lgb.Dataset(val_encodings, label=val_articles_df.is_fake, weight=val_weight)"
   ]
  },
  {
   "cell_type": "code",
   "execution_count": 126,
   "metadata": {},
   "outputs": [
    {
     "name": "stdout",
     "output_type": "stream",
     "text": [
      "[LightGBM] [Info] Number of positive: 11550, number of negative: 64175\n",
      "[LightGBM] [Warning] Auto-choosing col-wise multi-threading, the overhead of testing was 0.966651 seconds.\n",
      "You can set `force_col_wise=true` to remove the overhead.\n",
      "[LightGBM] [Info] Total Bins 153000\n",
      "[LightGBM] [Info] Number of data points in the train set: 75725, number of used features: 600\n",
      "[LightGBM] [Info] [binary:BoostFromScore]: pavg=0.500000 -> initscore=0.000000\n",
      "[LightGBM] [Info] Start training from score 0.000000\n",
      "[1]\tvalid_0's auc: 0.73778\n",
      "[2]\tvalid_0's auc: 0.785156\n",
      "[3]\tvalid_0's auc: 0.811487\n",
      "[4]\tvalid_0's auc: 0.809535\n",
      "[5]\tvalid_0's auc: 0.825488\n",
      "[6]\tvalid_0's auc: 0.832019\n",
      "[7]\tvalid_0's auc: 0.846005\n",
      "[8]\tvalid_0's auc: 0.853088\n",
      "[9]\tvalid_0's auc: 0.852874\n",
      "[10]\tvalid_0's auc: 0.859487\n",
      "[11]\tvalid_0's auc: 0.858063\n",
      "[12]\tvalid_0's auc: 0.865585\n",
      "[13]\tvalid_0's auc: 0.865004\n",
      "[14]\tvalid_0's auc: 0.868055\n",
      "[15]\tvalid_0's auc: 0.869477\n",
      "[16]\tvalid_0's auc: 0.867466\n",
      "[17]\tvalid_0's auc: 0.869072\n",
      "[18]\tvalid_0's auc: 0.87018\n",
      "[19]\tvalid_0's auc: 0.865408\n",
      "[20]\tvalid_0's auc: 0.861678\n",
      "[21]\tvalid_0's auc: 0.859332\n",
      "[22]\tvalid_0's auc: 0.858538\n",
      "[23]\tvalid_0's auc: 0.860313\n",
      "[24]\tvalid_0's auc: 0.860249\n",
      "[25]\tvalid_0's auc: 0.856272\n",
      "[26]\tvalid_0's auc: 0.854756\n",
      "[27]\tvalid_0's auc: 0.858212\n",
      "[28]\tvalid_0's auc: 0.853704\n",
      "[29]\tvalid_0's auc: 0.852223\n",
      "[30]\tvalid_0's auc: 0.855493\n",
      "[31]\tvalid_0's auc: 0.855661\n",
      "[32]\tvalid_0's auc: 0.857256\n",
      "[33]\tvalid_0's auc: 0.856493\n",
      "[34]\tvalid_0's auc: 0.855653\n",
      "[35]\tvalid_0's auc: 0.857483\n",
      "[36]\tvalid_0's auc: 0.858927\n",
      "[37]\tvalid_0's auc: 0.858659\n",
      "[38]\tvalid_0's auc: 0.858115\n",
      "[39]\tvalid_0's auc: 0.859215\n",
      "[40]\tvalid_0's auc: 0.857011\n",
      "[41]\tvalid_0's auc: 0.856929\n",
      "[42]\tvalid_0's auc: 0.855964\n",
      "[43]\tvalid_0's auc: 0.85641\n",
      "[44]\tvalid_0's auc: 0.855251\n",
      "[45]\tvalid_0's auc: 0.854911\n",
      "[46]\tvalid_0's auc: 0.854314\n",
      "[47]\tvalid_0's auc: 0.854306\n",
      "[48]\tvalid_0's auc: 0.853595\n",
      "[49]\tvalid_0's auc: 0.853193\n",
      "[50]\tvalid_0's auc: 0.850357\n",
      "[51]\tvalid_0's auc: 0.847886\n",
      "[52]\tvalid_0's auc: 0.849705\n",
      "[53]\tvalid_0's auc: 0.852136\n",
      "[54]\tvalid_0's auc: 0.850018\n",
      "[55]\tvalid_0's auc: 0.849467\n",
      "[56]\tvalid_0's auc: 0.848497\n",
      "[57]\tvalid_0's auc: 0.846841\n",
      "[58]\tvalid_0's auc: 0.845834\n",
      "[59]\tvalid_0's auc: 0.847091\n",
      "[60]\tvalid_0's auc: 0.843845\n",
      "[61]\tvalid_0's auc: 0.841699\n",
      "[62]\tvalid_0's auc: 0.840152\n",
      "[63]\tvalid_0's auc: 0.840873\n",
      "[64]\tvalid_0's auc: 0.840559\n",
      "[65]\tvalid_0's auc: 0.840083\n",
      "[66]\tvalid_0's auc: 0.839213\n",
      "[67]\tvalid_0's auc: 0.839369\n",
      "[68]\tvalid_0's auc: 0.839703\n",
      "[69]\tvalid_0's auc: 0.837679\n",
      "[70]\tvalid_0's auc: 0.837796\n",
      "[71]\tvalid_0's auc: 0.837772\n",
      "[72]\tvalid_0's auc: 0.838508\n",
      "[73]\tvalid_0's auc: 0.83956\n",
      "[74]\tvalid_0's auc: 0.839686\n",
      "[75]\tvalid_0's auc: 0.837871\n",
      "[76]\tvalid_0's auc: 0.840035\n",
      "[77]\tvalid_0's auc: 0.840802\n",
      "[78]\tvalid_0's auc: 0.838419\n",
      "[79]\tvalid_0's auc: 0.835393\n",
      "[80]\tvalid_0's auc: 0.834414\n",
      "[81]\tvalid_0's auc: 0.835062\n",
      "[82]\tvalid_0's auc: 0.83436\n",
      "[83]\tvalid_0's auc: 0.83215\n",
      "[84]\tvalid_0's auc: 0.832359\n",
      "[85]\tvalid_0's auc: 0.831193\n",
      "[86]\tvalid_0's auc: 0.832453\n",
      "[87]\tvalid_0's auc: 0.832025\n",
      "[88]\tvalid_0's auc: 0.833226\n",
      "[89]\tvalid_0's auc: 0.831831\n",
      "[90]\tvalid_0's auc: 0.831841\n",
      "[91]\tvalid_0's auc: 0.829643\n",
      "[92]\tvalid_0's auc: 0.828939\n",
      "[93]\tvalid_0's auc: 0.828946\n",
      "[94]\tvalid_0's auc: 0.828717\n",
      "[95]\tvalid_0's auc: 0.827035\n",
      "[96]\tvalid_0's auc: 0.826241\n",
      "[97]\tvalid_0's auc: 0.825638\n",
      "[98]\tvalid_0's auc: 0.825107\n",
      "[99]\tvalid_0's auc: 0.82559\n",
      "[100]\tvalid_0's auc: 0.826059\n"
     ]
    }
   ],
   "source": [
    "param = {'num_leaves': 11, 'objective': 'binary'}\n",
    "param['metric'] = 'auc'\n",
    "num_round = 100\n",
    "bst = lgb.train(param, train_dataset, num_round, valid_sets=[val_dataset])"
   ]
  },
  {
   "cell_type": "code",
   "execution_count": 127,
   "metadata": {},
   "outputs": [
    {
     "name": "stderr",
     "output_type": "stream",
     "text": [
      "79it [00:21,  3.74it/s]\n"
     ]
    }
   ],
   "source": [
    "preds = []\n",
    "\n",
    "sample = nela_gt_2018_articles_df.dropna(subset=[\"title\"]).sample(n=10000)\n",
    "\n",
    "for enc, labels in batched_preprocessing(sample, pretrained_fasttext, batch_size=128):\n",
    "    preds.append(bst.predict(enc))\n",
    "preds = np.concatenate(preds)"
   ]
  },
  {
   "cell_type": "code",
   "execution_count": 132,
   "metadata": {},
   "outputs": [
    {
     "data": {
      "text/plain": [
       "Text(0.5, 0.98, 'Distribution of fake articles by source score')"
      ]
     },
     "execution_count": 132,
     "metadata": {},
     "output_type": "execute_result"
    },
    {
     "data": {
      "image/png": "[encoded data removed]",
      "text/plain": [
       "<Figure size 432x288 with 1 Axes>"
      ]
     },
     "metadata": {},
     "output_type": "display_data"
    }
   ],
   "source": [
    "ax = sns.boxplot(x=sample.source_score, y=preds)\n",
    "ax.set_ylabel(\"Probability of article being fake\")\n",
    "\n",
    "plt.suptitle(\"Distribution of fake articles by source score\")"
   ]
  },
  {
   "cell_type": "markdown",
   "metadata": {},
   "source": [
    "Ok, the trend looks as it should - decreasing probability of news being fake with source score increasing. That trend is very modest. I'll have to give more information to the model. Auc looks pretty good even on this little data."
   ]
  },
  {
   "cell_type": "markdown",
   "metadata": {},
   "source": [
    "#### Autogluon\n"
   ]
  },
  {
   "cell_type": "code",
   "execution_count": 129,
   "metadata": {},
   "outputs": [
    {
     "name": "stderr",
     "output_type": "stream",
     "text": [
      "Warning: path already exists! This predictor may overwrite an existing predictor! path=\"/home/julius/lp/Turing/jjuoda-DL.4/models/AutoGluon\"\n",
      "Problem Type=\"binary\"\n",
      "Column Types:\n",
      "   - \"text\": text\n",
      "   - \"is_fake\": categorical\n",
      "\n"
     ]
    },
    {
     "ename": "RuntimeError",
     "evalue": "No GPU is detected in the machine and we will not proceed to run TextPredictor because they will train too slowly with only CPU. You may try to set `ngpus_per_trial` to a number larger than 0 when calling `.fit()`. Also, you can set the environment variable \"AUTOGLUON_TEXT_TRAIN_WITHOUT_GPU=1\" to force the model to use CPU for training.",
     "output_type": "error",
     "traceback": [
      "\u001b[0;31m---------------------------------------------------------------------------\u001b[0m",
      "\u001b[0;31mRuntimeError\u001b[0m                              Traceback (most recent call last)",
      "\u001b[0;32m/tmp/ipykernel_234884/1290045729.py\u001b[0m in \u001b[0;36m<module>\u001b[0;34m\u001b[0m\n\u001b[1;32m      1\u001b[0m \u001b[0mag_predictor\u001b[0m \u001b[0;34m=\u001b[0m \u001b[0mTextPredictor\u001b[0m\u001b[0;34m(\u001b[0m\u001b[0mlabel\u001b[0m\u001b[0;34m=\u001b[0m\u001b[0;34m\"is_fake\"\u001b[0m\u001b[0;34m,\u001b[0m \u001b[0mproblem_type\u001b[0m\u001b[0;34m=\u001b[0m\u001b[0;34m\"binary\"\u001b[0m\u001b[0;34m,\u001b[0m \u001b[0meval_metric\u001b[0m\u001b[0;34m=\u001b[0m\u001b[0;34m\"acc\"\u001b[0m\u001b[0;34m,\u001b[0m \u001b[0mpath\u001b[0m\u001b[0;34m=\u001b[0m\u001b[0mBASE_MODEL_DIR\u001b[0m \u001b[0;34m/\u001b[0m \u001b[0;34m\"AutoGluon\"\u001b[0m\u001b[0;34m)\u001b[0m\u001b[0;34m\u001b[0m\u001b[0;34m\u001b[0m\u001b[0m\n\u001b[0;32m----> 2\u001b[0;31m \u001b[0mag_predictor\u001b[0m\u001b[0;34m.\u001b[0m\u001b[0mfit\u001b[0m\u001b[0;34m(\u001b[0m\u001b[0mtrain_articles_df\u001b[0m\u001b[0;34m[\u001b[0m\u001b[0;34m[\u001b[0m\u001b[0;34m\"text\"\u001b[0m\u001b[0;34m,\u001b[0m \u001b[0;34m\"is_fake\"\u001b[0m\u001b[0;34m]\u001b[0m\u001b[0;34m]\u001b[0m\u001b[0;34m,\u001b[0m \u001b[0mval_articles_df\u001b[0m\u001b[0;34m[\u001b[0m\u001b[0;34m[\u001b[0m\u001b[0;34m\"text\"\u001b[0m\u001b[0;34m,\u001b[0m \u001b[0;34m\"is_fake\"\u001b[0m\u001b[0;34m]\u001b[0m\u001b[0;34m]\u001b[0m\u001b[0;34m,\u001b[0m \u001b[0mtime_limit\u001b[0m\u001b[0;34m=\u001b[0m\u001b[0;36m60\u001b[0m\u001b[0;34m)\u001b[0m\u001b[0;34m\u001b[0m\u001b[0;34m\u001b[0m\u001b[0m\n\u001b[0m",
      "\u001b[0;32m~/lp/Turing/jjuoda-DL.4/venv/lib/python3.9/site-packages/autogluon/text/text_prediction/predictor/predictor.py\u001b[0m in \u001b[0;36mfit\u001b[0;34m(self, train_data, tuning_data, time_limit, presets, hyperparameters, column_types, num_cpus, num_gpus, num_trials, plot_results, holdout_frac, save_path, seed)\u001b[0m\n\u001b[1;32m    386\u001b[0m                                                   \u001b[0mlog_metrics\u001b[0m\u001b[0;34m=\u001b[0m\u001b[0mlog_metrics\u001b[0m\u001b[0;34m,\u001b[0m\u001b[0;34m\u001b[0m\u001b[0;34m\u001b[0m\u001b[0m\n\u001b[1;32m    387\u001b[0m                                                   output_directory=self._path)\n\u001b[0;32m--> 388\u001b[0;31m                 self._model.train(train_data=train_data,\n\u001b[0m\u001b[1;32m    389\u001b[0m                                   \u001b[0mtuning_data\u001b[0m\u001b[0;34m=\u001b[0m\u001b[0mtuning_data\u001b[0m\u001b[0;34m,\u001b[0m\u001b[0;34m\u001b[0m\u001b[0;34m\u001b[0m\u001b[0m\n\u001b[1;32m    390\u001b[0m                                   \u001b[0mnum_cpus\u001b[0m\u001b[0;34m=\u001b[0m\u001b[0mnum_cpus\u001b[0m\u001b[0;34m,\u001b[0m\u001b[0;34m\u001b[0m\u001b[0;34m\u001b[0m\u001b[0m\n",
      "\u001b[0;32m~/lp/Turing/jjuoda-DL.4/venv/lib/python3.9/site-packages/mxnet/util.py\u001b[0m in \u001b[0;36m_with_np_shape\u001b[0;34m(*args, **kwargs)\u001b[0m\n",
      "\u001b[0;32m~/lp/Turing/jjuoda-DL.4/venv/lib/python3.9/site-packages/mxnet/util.py\u001b[0m in \u001b[0;36m_with_np_array\u001b[0;34m(*args, **kwargs)\u001b[0m\n",
      "\u001b[0;32m~/lp/Turing/jjuoda-DL.4/venv/lib/python3.9/site-packages/autogluon/text/text_prediction/mx/models.py\u001b[0m in \u001b[0;36mtrain\u001b[0;34m(self, train_data, tuning_data, num_cpus, num_gpus, time_limit, tune_kwargs, search_space, continue_training, plot_results, console_log, seed, verbosity)\u001b[0m\n\u001b[1;32m   1006\u001b[0m                               'training on CPU is slow.')\n\u001b[1;32m   1007\u001b[0m             \u001b[0;32melse\u001b[0m\u001b[0;34m:\u001b[0m\u001b[0;34m\u001b[0m\u001b[0;34m\u001b[0m\u001b[0m\n\u001b[0;32m-> 1008\u001b[0;31m                 raise RuntimeError('No GPU is detected in the machine and we will '\n\u001b[0m\u001b[1;32m   1009\u001b[0m                                    \u001b[0;34m'not proceed to run TextPredictor because they will train '\u001b[0m\u001b[0;34m\u001b[0m\u001b[0;34m\u001b[0m\u001b[0m\n\u001b[1;32m   1010\u001b[0m                                    \u001b[0;34m'too slowly with only CPU. You may try to set `ngpus_per_trial` '\u001b[0m\u001b[0;34m\u001b[0m\u001b[0;34m\u001b[0m\u001b[0m\n",
      "\u001b[0;31mRuntimeError\u001b[0m: No GPU is detected in the machine and we will not proceed to run TextPredictor because they will train too slowly with only CPU. You may try to set `ngpus_per_trial` to a number larger than 0 when calling `.fit()`. Also, you can set the environment variable \"AUTOGLUON_TEXT_TRAIN_WITHOUT_GPU=1\" to force the model to use CPU for training."
     ]
    }
   ],
   "source": [
    "ag_predictor = TextPredictor(label=\"is_fake\", problem_type=\"binary\", eval_metric=\"acc\", path=BASE_MODEL_DIR / \"AutoGluon\")\n",
    "ag_predictor.fit(train_articles_df[[\"text\", \"is_fake\"]], val_articles_df[[\"text\", \"is_fake\"]], time_limit=60)"
   ]
  },
  {
   "cell_type": "code",
   "execution_count": null,
   "metadata": {},
   "outputs": [],
   "source": []
  }
 ],
 "metadata": {
  "interpreter": {
   "hash": "5a7d5478afe2248c49abfa1219649289765da77ad68068bfc5af38a5747c85f1"
  },
  "kernelspec": {
   "display_name": "Python 3.9.7 64-bit ('venv': venv)",
   "language": "python",
   "name": "python3"
  },
  "language_info": {
   "codemirror_mode": {
    "name": "ipython",
    "version": 3
   },
   "file_extension": ".py",
   "mimetype": "text/x-python",
   "name": "python",
   "nbconvert_exporter": "python",
   "pygments_lexer": "ipython3",
   "version": "3.9.7"
  }
 },
 "nbformat": 4,
 "nbformat_minor": 2
}
