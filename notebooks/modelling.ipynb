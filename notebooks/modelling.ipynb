{
 "cells": [
  {
   "cell_type": "code",
   "execution_count": 1,
   "metadata": {},
   "outputs": [],
   "source": [
    "from collections import Counter\n",
    "from copy import copy\n",
    "import io\n",
    "from pathlib import Path\n",
    "import pickle\n",
    "from typing import Callable, Dict\n",
    "\n",
    "import fasttext.util\n",
    "from imblearn.base import BaseSampler\n",
    "from imblearn import over_sampling\n",
    "import joblib\n",
    "from matplotlib import pyplot as plt\n",
    "import numpy as np\n",
    "import lightgbm as lgb\n",
    "import pandas as pd\n",
    "import seaborn as sns\n",
    "from sklearn.feature_extraction.text import TfidfVectorizer\n",
    "from sklearn.metrics import accuracy_score, roc_auc_score\n",
    "from sklearn.linear_model import LogisticRegression, SGDClassifier\n",
    "from sklearn.neighbors import KNeighborsClassifier\n",
    "import spacy\n",
    "from tqdm.notebook import tqdm\n",
    "\n",
    "from jjuoda_dl4.utils import BASE_DATA_DIR, BASE_MODEL_DIR, make_train_dataframes"
   ]
  },
  {
   "cell_type": "code",
   "execution_count": 2,
   "metadata": {},
   "outputs": [
    {
     "data": {
      "text/html": [
       "<div>\n",
       "<style scoped>\n",
       "    .dataframe tbody tr th:only-of-type {\n",
       "        vertical-align: middle;\n",
       "    }\n",
       "\n",
       "    .dataframe tbody tr th {\n",
       "        vertical-align: top;\n",
       "    }\n",
       "\n",
       "    .dataframe thead th {\n",
       "        text-align: right;\n",
       "    }\n",
       "</style>\n",
       "<table border=\"1\" class=\"dataframe\">\n",
       "  <thead>\n",
       "    <tr style=\"text-align: right;\">\n",
       "      <th></th>\n",
       "      <th>title</th>\n",
       "      <th>text</th>\n",
       "      <th>subject</th>\n",
       "      <th>date</th>\n",
       "      <th>is_fake</th>\n",
       "      <th>num_words_text</th>\n",
       "      <th>num_words_title</th>\n",
       "    </tr>\n",
       "  </thead>\n",
       "  <tbody>\n",
       "    <tr>\n",
       "      <th>0</th>\n",
       "      <td>As U.S. budget fight looms, Republicans flip t...</td>\n",
       "      <td>The head of a conservative Republican faction ...</td>\n",
       "      <td>politicsNews</td>\n",
       "      <td>December 31, 2017</td>\n",
       "      <td>False</td>\n",
       "      <td>746</td>\n",
       "      <td>10</td>\n",
       "    </tr>\n",
       "    <tr>\n",
       "      <th>1</th>\n",
       "      <td>U.S. military to accept transgender recruits o...</td>\n",
       "      <td>Transgender people will be allowed for the fir...</td>\n",
       "      <td>politicsNews</td>\n",
       "      <td>December 29, 2017</td>\n",
       "      <td>False</td>\n",
       "      <td>621</td>\n",
       "      <td>9</td>\n",
       "    </tr>\n",
       "    <tr>\n",
       "      <th>2</th>\n",
       "      <td>Senior U.S. Republican senator: 'Let Mr. Muell...</td>\n",
       "      <td>The special counsel investigation of links bet...</td>\n",
       "      <td>politicsNews</td>\n",
       "      <td>December 31, 2017</td>\n",
       "      <td>False</td>\n",
       "      <td>454</td>\n",
       "      <td>10</td>\n",
       "    </tr>\n",
       "    <tr>\n",
       "      <th>3</th>\n",
       "      <td>FBI Russia probe helped by Australian diplomat...</td>\n",
       "      <td>Trump campaign adviser George Papadopoulos tol...</td>\n",
       "      <td>politicsNews</td>\n",
       "      <td>December 30, 2017</td>\n",
       "      <td>False</td>\n",
       "      <td>372</td>\n",
       "      <td>9</td>\n",
       "    </tr>\n",
       "    <tr>\n",
       "      <th>4</th>\n",
       "      <td>Trump wants Postal Service to charge 'much mor...</td>\n",
       "      <td>President Donald Trump called on the U.S. Post...</td>\n",
       "      <td>politicsNews</td>\n",
       "      <td>December 29, 2017</td>\n",
       "      <td>False</td>\n",
       "      <td>849</td>\n",
       "      <td>11</td>\n",
       "    </tr>\n",
       "  </tbody>\n",
       "</table>\n",
       "</div>"
      ],
      "text/plain": [
       "                                               title  \\\n",
       "0  As U.S. budget fight looms, Republicans flip t...   \n",
       "1  U.S. military to accept transgender recruits o...   \n",
       "2  Senior U.S. Republican senator: 'Let Mr. Muell...   \n",
       "3  FBI Russia probe helped by Australian diplomat...   \n",
       "4  Trump wants Postal Service to charge 'much mor...   \n",
       "\n",
       "                                                text       subject  \\\n",
       "0  The head of a conservative Republican faction ...  politicsNews   \n",
       "1  Transgender people will be allowed for the fir...  politicsNews   \n",
       "2  The special counsel investigation of links bet...  politicsNews   \n",
       "3  Trump campaign adviser George Papadopoulos tol...  politicsNews   \n",
       "4  President Donald Trump called on the U.S. Post...  politicsNews   \n",
       "\n",
       "                 date  is_fake  num_words_text  num_words_title  \n",
       "0  December 31, 2017     False             746               10  \n",
       "1  December 29, 2017     False             621                9  \n",
       "2  December 31, 2017     False             454               10  \n",
       "3  December 30, 2017     False             372                9  \n",
       "4  December 29, 2017     False             849               11  "
      ]
     },
     "execution_count": 2,
     "metadata": {},
     "output_type": "execute_result"
    }
   ],
   "source": [
    "df_merged = pd.read_csv(BASE_DATA_DIR / \"final\" / \"merged.csv\")\n",
    "df_merged.head()"
   ]
  },
  {
   "cell_type": "code",
   "execution_count": 3,
   "metadata": {},
   "outputs": [],
   "source": [
    "# drop rows where both text and title were cleaned to empty string\n",
    "df_merged = df_merged[~(df_merged.title.isna() & df_merged.text.isna())]\n",
    "\n",
    "# fill in nan values with empty string\n",
    "df_merged.title.fillna(\"\", inplace=True)\n",
    "df_merged.text.fillna(\"\", inplace=True)"
   ]
  },
  {
   "cell_type": "markdown",
   "metadata": {},
   "source": [
    "### Baseline heuristic"
   ]
  },
  {
   "cell_type": "markdown",
   "metadata": {},
   "source": [
    "#### Words in all caps"
   ]
  },
  {
   "cell_type": "code",
   "execution_count": 4,
   "metadata": {},
   "outputs": [],
   "source": [
    "def count_all_caps(texts: pd.Series):\n",
    "    return texts.str.count(r\"\\b[A-Z]{2,}\\b\")\n",
    "\n",
    "\n",
    "def get_caps_table(texts: pd.Series, is_fake: pd.Series):\n",
    "    num_words = texts.str.split().str.len().values\n",
    "    num_caps = count_all_caps(texts).values\n",
    "\n",
    "    is_fake = is_fake[num_words > 0]\n",
    "    num_caps = num_caps[num_words > 0]\n",
    "    num_words = num_words[num_words > 0]\n",
    "\n",
    "    cap_frequency = num_caps / num_words\n",
    "\n",
    "    mean_caps_true = cap_frequency[~is_fake].mean()\n",
    "    mean_caps_fake = cap_frequency[is_fake].mean()\n",
    "\n",
    "    return mean_caps_true, mean_caps_fake\n",
    "\n",
    "\n",
    "mean_caps_title_true, mean_caps_title_fake = get_caps_table(\n",
    "    df_merged.title, df_merged.is_fake\n",
    ")\n",
    "mean_caps_text_true, mean_caps_text_fake = get_caps_table(\n",
    "    df_merged.text, df_merged.is_fake\n",
    ")\n",
    "\n",
    "\n",
    "def _get_caps_odds(texts, mean_true, mean_fake):\n",
    "    num_caps = count_all_caps(texts).values\n",
    "    num_words = texts.str.split().str.len().values\n",
    "    cap_frequency = num_caps / num_words\n",
    "    text_odds = np.ones((len(cap_frequency), 2))\n",
    "    text_odds[cap_frequency < mean_true] = np.array([[4, 1]])\n",
    "    text_odds[cap_frequency > mean_fake] = np.array([[1, 4]])\n",
    "\n",
    "    mask = np.logical_and(cap_frequency >= mean_true, cap_frequency <= mean_fake)\n",
    "    dist_true = cap_frequency - mean_true\n",
    "    dist_fake = cap_frequency - mean_fake\n",
    "\n",
    "    text_odds[mask & (dist_true < dist_fake)] = np.array([[2, 3]])\n",
    "    text_odds[mask & (dist_true > dist_fake)] = np.array([[3, 2]])\n",
    "    return text_odds\n",
    "\n",
    "\n",
    "def get_caps_odds(df: pd.DataFrame):\n",
    "    text_odds = _get_caps_odds(df.text, mean_caps_title_true, mean_caps_title_fake) / 2\n",
    "    text_odds[text_odds < 1] = 1  # reduce difference between fake and true\n",
    "    title_odds = _get_caps_odds(df.title, mean_caps_title_true, mean_caps_title_fake)\n",
    "\n",
    "    return text_odds * title_odds"
   ]
  },
  {
   "cell_type": "code",
   "execution_count": 5,
   "metadata": {},
   "outputs": [
    {
     "name": "stdout",
     "output_type": "stream",
     "text": [
      "                                                                                                                         title  is_fake  true_odds  fake_odds\n",
      "18086                                                North Korea preparing long-range missile test: RIA cites Russian lawmaker    False        6.0        2.0\n",
      "18773                                                             Turkey raises oil threat after Iraqi Kurds back independence    False        8.0        1.0\n",
      "38860                                               OBAMA’S RACISM CZAR, “REVEREND” AL SHARPTON CALLS FOR FEDERAL POLICE FORCE     True        2.0        4.0\n",
      "36413                                                                 Jimmy Kimmel’s Hysterical Take On The Republican Debate      True        8.0        1.0\n",
      "1332                                                    Factbox: Can Trump kill NFL stadium tax breaks? Five facts to consider    False        6.0        2.0\n",
      "41483  MN: Why Did Police “Stand Down”? GROTESQUE VIDEO Shows Male Hillary Supporter PUNCHING Elderly Trump Supporter Sever...     True        6.0        2.0\n",
      "22891                           Half The World’s Salmon Supply Threatened As Trump’s EPA Withdraws Alaskan Mining Restrictions     True        4.5        2.0\n",
      "20483                                                          Canada deported hundreds to war-torn countries: government data    False        8.0        1.0\n",
      "21043                                                             Kenyan election commission sets Oct. 17 as date for new vote    False        8.0        1.0\n",
      "41800              WATCH: INDOCTRINATED COLLEGE STUDENTS Are Stunned By Ugly Truth About Hillary: “Which candidate said this?”     True        2.0        4.0\n"
     ]
    }
   ],
   "source": [
    "sample = df_merged.sample(10)\n",
    "sample[[\"true_odds\", \"fake_odds\"]] = get_caps_odds(sample)\n",
    "with pd.option_context(\"display.max_colwidth\", 120, \"expand_frame_repr\", False):\n",
    "    print(sample[[\"title\", \"is_fake\", \"true_odds\", \"fake_odds\"]])"
   ]
  },
  {
   "cell_type": "code",
   "execution_count": 6,
   "metadata": {},
   "outputs": [
    {
     "name": "stderr",
     "output_type": "stream",
     "text": [
      "/tmp/ipykernel_68714/335387911.py:32: RuntimeWarning: invalid value encountered in true_divide\n",
      "  cap_frequency = num_caps / num_words\n"
     ]
    },
    {
     "data": {
      "text/plain": [
       "0.6817705896767582"
      ]
     },
     "execution_count": 6,
     "metadata": {},
     "output_type": "execute_result"
    }
   ],
   "source": [
    "eval = df_merged.copy()\n",
    "eval[[\"true_odds\", \"fake_odds\"]] = get_caps_odds(eval)\n",
    "((eval.true_odds < eval.fake_odds) == eval.is_fake).mean()"
   ]
  },
  {
   "cell_type": "code",
   "execution_count": 7,
   "metadata": {},
   "outputs": [
    {
     "data": {
      "text/plain": [
       "array([[1.5, 4. ]])"
      ]
     },
     "execution_count": 7,
     "metadata": {},
     "output_type": "execute_result"
    }
   ],
   "source": [
    "get_caps_odds(df_merged.loc[[30540]])"
   ]
  },
  {
   "cell_type": "markdown",
   "metadata": {},
   "source": [
    "#### Keyword search"
   ]
  },
  {
   "cell_type": "code",
   "execution_count": 8,
   "metadata": {},
   "outputs": [],
   "source": [
    "# nlp = spacy.load(\"en_core_web_sm\")"
   ]
  },
  {
   "cell_type": "code",
   "execution_count": 9,
   "metadata": {},
   "outputs": [],
   "source": [
    "def extract_keywords(texts: pd.Series, mask):\n",
    "    keywords = Counter()\n",
    "    for doc in nlp.pipe(df_merged.text[mask].str.lower(), batch_size=100):\n",
    "        keywords.update(str(s).lower() for s in doc.ents)\n",
    "\n",
    "    return (\n",
    "        pd.DataFrame(keywords.items(), columns=[\"keyword\", \"count\"])\n",
    "        .sort_values(\"count\", ascending=False)\n",
    "        .reset_index(drop=True)\n",
    "    )"
   ]
  },
  {
   "cell_type": "code",
   "execution_count": 10,
   "metadata": {},
   "outputs": [],
   "source": [
    "# fake_keywords = extract_keywords(df_merged.text, df_merged.is_fake)\n",
    "# fake_keywords.head()"
   ]
  },
  {
   "cell_type": "code",
   "execution_count": 11,
   "metadata": {},
   "outputs": [],
   "source": [
    "# fake_keywords_title = extract_keywords(df_merged.title, df_merged.is_fake)\n",
    "# fake_keywords_title.head()"
   ]
  },
  {
   "cell_type": "code",
   "execution_count": 12,
   "metadata": {},
   "outputs": [],
   "source": [
    "# true_keywords = extract_keywords(df_merged.text, ~df_merged.is_fake)\n",
    "# true_keywords.head()"
   ]
  },
  {
   "cell_type": "code",
   "execution_count": 13,
   "metadata": {},
   "outputs": [],
   "source": [
    "# true_keywords_title = extract_keywords(df_merged.title, ~df_merged.is_fake)\n",
    "# true_keywords_title.head()"
   ]
  },
  {
   "cell_type": "code",
   "execution_count": 14,
   "metadata": {},
   "outputs": [],
   "source": [
    "# set(fake_keywords.head(100).keyword) - set(true_keywords.head(200).keyword)"
   ]
  },
  {
   "cell_type": "code",
   "execution_count": 15,
   "metadata": {},
   "outputs": [],
   "source": [
    "# set(fake_keywords_title.head(100).keyword) - set(true_keywords_title.head(200).keyword)"
   ]
  },
  {
   "cell_type": "markdown",
   "metadata": {},
   "source": [
    "Hm, maybe:  \n",
    "- cia makes sense to appear more in conspiracy theories/fake news.\n",
    "- islam knowing that most of fake news come from American right\n",
    "- Hillary Clinton is likely mentioned by both a lot, since the period is 2015-2017, but Bill Clinton is a surprise"
   ]
  },
  {
   "cell_type": "code",
   "execution_count": 16,
   "metadata": {},
   "outputs": [],
   "source": [
    "# set(true_keywords.head(100).keyword) - set(fake_keywords.head(200).keyword)"
   ]
  },
  {
   "cell_type": "code",
   "execution_count": 17,
   "metadata": {},
   "outputs": [],
   "source": [
    "# set(true_keywords.head(100).keyword) - set(fake_keywords.head(200).keyword)"
   ]
  },
  {
   "cell_type": "markdown",
   "metadata": {},
   "source": [
    "Much more international news. In this dataset fake news are about US politics."
   ]
  },
  {
   "cell_type": "code",
   "execution_count": 18,
   "metadata": {},
   "outputs": [],
   "source": [
    "true_keywords_set = {\n",
    "    \"beijing\",\n",
    "    \"britain\",\n",
    "    \"eu\",\n",
    "    \"japan\",\n",
    "    \"myanmar\",\n",
    "    \"north korean\",\n",
    "    \"puerto rico\",\n",
    "    \"south korea\",\n",
    "    \"taiwan\",\n",
    "    \"the european union\",\n",
    "    \"the united nations\",\n",
    "    \"turkish\",\n",
    "    \"u.n.\",\n",
    "}\n",
    "fake_keywords_set = set(\n",
    "    [\"conspiracy\", \"cia\", \"islam\", \"bill clinton\", \"video\", \"lol\", \"wow\"]\n",
    ")\n",
    "\n",
    "\n",
    "def contains_keywords(text: str, keywords: set):\n",
    "    return sum(s.lower() in keywords for s in text.split())\n",
    "\n",
    "\n",
    "def _get_keyword_odds(texts: pd.Series):\n",
    "    true_keywords_count = texts.apply(\n",
    "        lambda x: contains_keywords(x, true_keywords_set)\n",
    "    ).values.reshape(-1, 1)\n",
    "    fake_keywords_count = texts.apply(\n",
    "        lambda x: contains_keywords(x, fake_keywords_set)\n",
    "    ).values.reshape(-1, 1)\n",
    "    return np.concatenate([true_keywords_count + 1, fake_keywords_count + 1], axis=1)\n",
    "\n",
    "\n",
    "def get_keyword_odds(df: pd.DataFrame):\n",
    "    text_odds = _get_keyword_odds(df.text)\n",
    "    title_odds = _get_keyword_odds(df.title)\n",
    "    return text_odds * title_odds"
   ]
  },
  {
   "cell_type": "code",
   "execution_count": 19,
   "metadata": {},
   "outputs": [
    {
     "name": "stdout",
     "output_type": "stream",
     "text": [
      "                                                                                                                         title  is_fake  true_odds  fake_odds\n",
      "28485                                          Rick Scott Just Got HUMILIATED So Badly In A Starbucks That He Had To Run Away      True          1          1\n",
      "31757   Lunatic MSNBC Reporter: “A paper trail leads directly back to Mike Pence—Pence knew Michael Flynn was a foreign agent”     True          1          1\n",
      "36593   Elitist Media Stoops To New Low Attacking Trump For Telling The Truth: “Carly cut his balls off with the precision ...     True          1          1\n",
      "34897                   DONALD TRUMP, JR Delivers Powerful Speech: “A President Who Will Unleash The Greatness In Our Nation”      True          1          1\n",
      "21285                                             Colombia protests what it says was Venezuelan military incursion over border    False          1          1\n",
      "8805                                                             House speaker Ryan to address Republican convention: Politico    False          1          1\n",
      "17751                                                          Germany registers fewer asylum seekers, on track for annual cap    False          2          1\n",
      "26494                                                           Claire McCaskill Blasts Trump As A ‘Bloviated God Damned Fool’     True          1          1\n",
      "39144  BOOM! SARAH HUCKABEE SANDERS Sets Media Straight On Difference Between Trump Volunteer’s Meeting and Clinton-DNC Pay...     True          1          1\n",
      "25669                                      Eric Trump: ‘Alpha Personalities’ Brag About Sexual Assault, It’s Just What They Do     True          1          1\n"
     ]
    }
   ],
   "source": [
    "sample = df_merged.sample(10)\n",
    "sample[[\"true_odds\", \"fake_odds\"]] = get_keyword_odds(sample)\n",
    "with pd.option_context(\"display.max_colwidth\", 120, \"expand_frame_repr\", False):\n",
    "    print(sample[[\"title\", \"is_fake\", \"true_odds\", \"fake_odds\"]])"
   ]
  },
  {
   "cell_type": "markdown",
   "metadata": {},
   "source": [
    "#### All odds together"
   ]
  },
  {
   "cell_type": "code",
   "execution_count": 20,
   "metadata": {},
   "outputs": [],
   "source": [
    "def get_odds(df: pd.DataFrame):\n",
    "    odd_funcs = [get_caps_odds, get_keyword_odds]\n",
    "    odds = np.ones((len(df), 2))\n",
    "    for func in odd_funcs:\n",
    "        odds *= func(df)\n",
    "    return odds\n",
    "\n",
    "\n",
    "def predict_proba(df: pd.DataFrame):\n",
    "    odds = get_odds(df)\n",
    "    return odds / odds.sum(axis=1, keepdims=True)\n",
    "\n",
    "\n",
    "def predict(df: pd.DataFrame):\n",
    "    return predict_proba(df).argmax(axis=1)"
   ]
  },
  {
   "cell_type": "code",
   "execution_count": 21,
   "metadata": {},
   "outputs": [
    {
     "name": "stderr",
     "output_type": "stream",
     "text": [
      "/tmp/ipykernel_68714/335387911.py:32: RuntimeWarning: invalid value encountered in true_divide\n",
      "  cap_frequency = num_caps / num_words\n"
     ]
    },
    {
     "data": {
      "text/plain": [
       "0.6911270021608857"
      ]
     },
     "execution_count": 21,
     "metadata": {},
     "output_type": "execute_result"
    }
   ],
   "source": [
    "eval = df_merged.copy()\n",
    "eval[[\"true_odds\", \"fake_odds\"]] = get_odds(eval)\n",
    "((eval.true_odds < eval.fake_odds) == eval.is_fake).mean()"
   ]
  },
  {
   "cell_type": "markdown",
   "metadata": {},
   "source": [
    "Ok, keyword extraction was work and didn't help much."
   ]
  },
  {
   "cell_type": "markdown",
   "metadata": {},
   "source": [
    "### Classical models"
   ]
  },
  {
   "cell_type": "code",
   "execution_count": 22,
   "metadata": {},
   "outputs": [
    {
     "name": "stderr",
     "output_type": "stream",
     "text": [
      "Warning : `load_model` does not return WordVectorModel or SupervisedModel any more, but a `FastText` object which is very similar.\n"
     ]
    }
   ],
   "source": [
    "pretrained_fasttext = fasttext.load_model(str(BASE_MODEL_DIR / \"cc.en.300.bin\"))"
   ]
  },
  {
   "cell_type": "code",
   "execution_count": 23,
   "metadata": {},
   "outputs": [],
   "source": [
    "encodings = np.array(\n",
    "    [pretrained_fasttext.get_sentence_vector(s.lower()) for s in df_merged.text]\n",
    ")"
   ]
  },
  {
   "cell_type": "code",
   "execution_count": 24,
   "metadata": {},
   "outputs": [
    {
     "data": {
      "text/plain": [
       "LogisticRegression(max_iter=1000)"
      ]
     },
     "execution_count": 24,
     "metadata": {},
     "output_type": "execute_result"
    }
   ],
   "source": [
    "logistic_regression = LogisticRegression(solver=\"lbfgs\", max_iter=1000)\n",
    "logistic_regression.fit(encodings, df_merged.is_fake)"
   ]
  },
  {
   "cell_type": "code",
   "execution_count": 25,
   "metadata": {},
   "outputs": [
    {
     "data": {
      "text/plain": [
       "0.9374902537369957"
      ]
     },
     "execution_count": 25,
     "metadata": {},
     "output_type": "execute_result"
    }
   ],
   "source": [
    "(logistic_regression.predict(encodings) == df_merged.is_fake).mean()"
   ]
  },
  {
   "cell_type": "markdown",
   "metadata": {},
   "source": [
    "Dataset is horrendous. Distinguishing real news from fake news could be pretty hard, but in this case real news only comes from Reuters and fake news come from random sources, mostly twitter. They are very different and even after cleaning up dataset a bit, simple logistic regression achieves 94.7% accuracy without any feature engineering."
   ]
  },
  {
   "cell_type": "markdown",
   "metadata": {},
   "source": [
    "#### Evaluation against nela-gt-2018"
   ]
  },
  {
   "cell_type": "code",
   "execution_count": 26,
   "metadata": {},
   "outputs": [
    {
     "data": {
      "text/html": [
       "<div>\n",
       "<style scoped>\n",
       "    .dataframe tbody tr th:only-of-type {\n",
       "        vertical-align: middle;\n",
       "    }\n",
       "\n",
       "    .dataframe tbody tr th {\n",
       "        vertical-align: top;\n",
       "    }\n",
       "\n",
       "    .dataframe thead th {\n",
       "        text-align: right;\n",
       "    }\n",
       "</style>\n",
       "<table border=\"1\" class=\"dataframe\">\n",
       "  <thead>\n",
       "    <tr style=\"text-align: right;\">\n",
       "      <th></th>\n",
       "      <th>path</th>\n",
       "      <th>title</th>\n",
       "      <th>date</th>\n",
       "      <th>source</th>\n",
       "      <th>source_score</th>\n",
       "    </tr>\n",
       "  </thead>\n",
       "  <tbody>\n",
       "    <tr>\n",
       "      <th>0</th>\n",
       "      <td>raw/NELA-GT-2018/articles/2018-09-08/Business ...</td>\n",
       "      <td>Dozens of manufacturing companies testified ab...</td>\n",
       "      <td>2018-09-08</td>\n",
       "      <td>Business Insider</td>\n",
       "      <td>2.0</td>\n",
       "    </tr>\n",
       "    <tr>\n",
       "      <th>1</th>\n",
       "      <td>raw/NELA-GT-2018/articles/2018-09-08/RT/RT--20...</td>\n",
       "      <td>Pentagon routinely briefs Trump on military op...</td>\n",
       "      <td>2018-09-08</td>\n",
       "      <td>RT</td>\n",
       "      <td>0.0</td>\n",
       "    </tr>\n",
       "    <tr>\n",
       "      <th>2</th>\n",
       "      <td>raw/NELA-GT-2018/articles/2018-09-08/RT/RT--20...</td>\n",
       "      <td>US Air Force determining facts appropriate pro...</td>\n",
       "      <td>2018-09-08</td>\n",
       "      <td>RT</td>\n",
       "      <td>0.0</td>\n",
       "    </tr>\n",
       "    <tr>\n",
       "      <th>3</th>\n",
       "      <td>raw/NELA-GT-2018/articles/2018-09-08/RT/RT--20...</td>\n",
       "      <td>Pentagon designing Glide Breaker interceptor t...</td>\n",
       "      <td>2018-09-08</td>\n",
       "      <td>RT</td>\n",
       "      <td>0.0</td>\n",
       "    </tr>\n",
       "    <tr>\n",
       "      <th>4</th>\n",
       "      <td>raw/NELA-GT-2018/articles/2018-09-08/RT/RT--20...</td>\n",
       "      <td>Developing nation US cant afford to subsidize ...</td>\n",
       "      <td>2018-09-08</td>\n",
       "      <td>RT</td>\n",
       "      <td>0.0</td>\n",
       "    </tr>\n",
       "  </tbody>\n",
       "</table>\n",
       "</div>"
      ],
      "text/plain": [
       "                                                path  \\\n",
       "0  raw/NELA-GT-2018/articles/2018-09-08/Business ...   \n",
       "1  raw/NELA-GT-2018/articles/2018-09-08/RT/RT--20...   \n",
       "2  raw/NELA-GT-2018/articles/2018-09-08/RT/RT--20...   \n",
       "3  raw/NELA-GT-2018/articles/2018-09-08/RT/RT--20...   \n",
       "4  raw/NELA-GT-2018/articles/2018-09-08/RT/RT--20...   \n",
       "\n",
       "                                               title        date  \\\n",
       "0  Dozens of manufacturing companies testified ab...  2018-09-08   \n",
       "1  Pentagon routinely briefs Trump on military op...  2018-09-08   \n",
       "2  US Air Force determining facts appropriate pro...  2018-09-08   \n",
       "3  Pentagon designing Glide Breaker interceptor t...  2018-09-08   \n",
       "4  Developing nation US cant afford to subsidize ...  2018-09-08   \n",
       "\n",
       "             source  source_score  \n",
       "0  Business Insider           2.0  \n",
       "1                RT           0.0  \n",
       "2                RT           0.0  \n",
       "3                RT           0.0  \n",
       "4                RT           0.0  "
      ]
     },
     "execution_count": 26,
     "metadata": {},
     "output_type": "execute_result"
    }
   ],
   "source": [
    "nela_gt_2018_articles_df = pd.read_csv(\n",
    "    BASE_DATA_DIR / \"interim\" / \"nela-gt-2018-articles.csv\", index_col=0\n",
    ")\n",
    "nela_gt_2018_articles_df.head()"
   ]
  },
  {
   "cell_type": "code",
   "execution_count": 27,
   "metadata": {},
   "outputs": [],
   "source": [
    "nela_gt_2018_scores_df = pd.read_csv(\n",
    "    BASE_DATA_DIR / \"interim\" / \"nela-gt-2018-scores.csv\", index_col=0\n",
    ")"
   ]
  },
  {
   "cell_type": "code",
   "execution_count": 28,
   "metadata": {},
   "outputs": [],
   "source": [
    "nela_gt_2018_articles_df[\"is_fake\"] = np.nan"
   ]
  },
  {
   "cell_type": "code",
   "execution_count": 29,
   "metadata": {},
   "outputs": [],
   "source": [
    "def chunks(l, n):\n",
    "    for i in range(0, len(l), n):\n",
    "        yield l[i : i + n]\n",
    "\n",
    "\n",
    "def batched_preprocessing(\n",
    "    articles_df: pd.DataFrame,\n",
    "    ft_encoder,\n",
    "    batch_size: int = 128,\n",
    "    root_dir: Path = BASE_DATA_DIR,\n",
    "):\n",
    "    articles_df = articles_df.dropna(subset=[\"title\"])\n",
    "    for batch_indices in tqdm(chunks(articles_df.index, batch_size)):\n",
    "        text_encodings = []\n",
    "        for article_path in articles_df.loc[batch_indices].path:\n",
    "            with open(root_dir / article_path, \"r\") as f:\n",
    "                text = f.read().replace(\"\\n\", \" \")\n",
    "            text_encodings.append(ft_encoder.get_sentence_vector(text.lower()))\n",
    "        text_encodings = np.array(text_encodings)\n",
    "        title_encodings = np.array(\n",
    "            [\n",
    "                ft_encoder.get_sentence_vector(s.lower())\n",
    "                for s in articles_df.loc[batch_indices].title\n",
    "            ]\n",
    "        )\n",
    "        encodings = np.concatenate([text_encodings, title_encodings], axis=1)\n",
    "        yield encodings, articles_df.loc[batch_indices].is_fake\n",
    "\n",
    "\n",
    "def batched_predictions(articles: pd.DataFrame, ft_encoder, model, batch_size=128):\n",
    "    for text_encodings, _ in batched_preprocessing(articles, ft_encoder, batch_size):\n",
    "        preds = model.predict_proba(text_encodings)\n",
    "        yield preds\n",
    "\n",
    "\n",
    "def batched_training(articles_df: pd.DataFrame, ft_encoder, model, batch_size=128):\n",
    "    for text_encodings, is_fake in batched_preprocessing(\n",
    "        articles_df, ft_encoder, batch_size\n",
    "    ):\n",
    "        model.partial_fit(text_encodings, is_fake, classes=[0, 1])"
   ]
  },
  {
   "cell_type": "code",
   "execution_count": 30,
   "metadata": {},
   "outputs": [],
   "source": [
    "# predicted_probas = np.concatenate(list(batched_predictions(nela_gt_2018_articles_df, pretrained_fasttext, logistic_regression)))"
   ]
  },
  {
   "cell_type": "code",
   "execution_count": 31,
   "metadata": {},
   "outputs": [],
   "source": [
    "# ax = sns.boxplot(x=nela_gt_2018_articles_df.source_score, y=predicted_probas[:, 0])\n",
    "\n",
    "# ax.set_ylabel(\"Probability of being fake\")\n",
    "\n",
    "# plt.savefig(BASE_DATA_DIR / \"processed\" / \"nela-gt-2018-articles-probability-of-being-fake.png\")"
   ]
  },
  {
   "cell_type": "markdown",
   "metadata": {},
   "source": [
    "I am not sure I assigned scores to sources correctly, however, I'm pretty sure that as we increase source score, proportion of reliable news increases. As I feared, model trained on the original dataset generalizes poorly. Let's train our model on articles I'm most confident about."
   ]
  },
  {
   "cell_type": "code",
   "execution_count": 32,
   "metadata": {},
   "outputs": [
    {
     "name": "stdout",
     "output_type": "stream",
     "text": [
      "We have:\n",
      "33 reliable sources in train\n",
      "13 unreliable sources in train\n",
      "For a total of 174847 articles in train\n",
      "3 reliable sources in val\n",
      "2 unreliable sources in val\n",
      "For a total of 25606 articles in val\n",
      "\n",
      "Processing train articles\n",
      "Reading train articles\n"
     ]
    },
    {
     "data": {
      "application/vnd.jupyter.widget-view+json": {
       "model_id": "a5e1b045fdc04779a5564bb1bf8047b9",
       "version_major": 2,
       "version_minor": 0
      },
      "text/plain": [
       "  0%|          | 0/174847 [00:00<?, ?it/s]"
      ]
     },
     "metadata": {},
     "output_type": "display_data"
    },
    {
     "name": "stdout",
     "output_type": "stream",
     "text": [
      "Processing val articles\n",
      "Reading val articles\n"
     ]
    },
    {
     "data": {
      "application/vnd.jupyter.widget-view+json": {
       "model_id": "337ad065d0224db68bd3eecd585ee254",
       "version_major": 2,
       "version_minor": 0
      },
      "text/plain": [
       "  0%|          | 0/25606 [00:00<?, ?it/s]"
      ]
     },
     "metadata": {},
     "output_type": "display_data"
    }
   ],
   "source": [
    "train_articles_df, val_articles_df = make_train_dataframes(\n",
    "    nela_gt_2018_articles_df, nela_gt_2018_scores_df\n",
    ")"
   ]
  },
  {
   "cell_type": "code",
   "execution_count": 33,
   "metadata": {},
   "outputs": [],
   "source": [
    "def _make_encodings_simple(articles_df, ft_encoder):\n",
    "    encodings_text = np.stack(\n",
    "        [\n",
    "            ft_encoder.get_sentence_vector(s.lower().replace(\"\\n\", \" \"))\n",
    "            for s in articles_df.text\n",
    "        ]\n",
    "    )\n",
    "    encodings_title = np.stack(\n",
    "        [\n",
    "            ft_encoder.get_sentence_vector(s.lower().replace(\"\\n\", \" \"))\n",
    "            for s in articles_df.title\n",
    "        ]\n",
    "    )\n",
    "    return np.concatenate([encodings_text, encodings_title], axis=1)"
   ]
  },
  {
   "cell_type": "code",
   "execution_count": 34,
   "metadata": {},
   "outputs": [],
   "source": [
    "train_encodings = _make_encodings_simple(train_articles_df, pretrained_fasttext)\n",
    "val_encodings = _make_encodings_simple(val_articles_df, pretrained_fasttext)\n",
    "original_encodings = _make_encodings_simple(df_merged, pretrained_fasttext)"
   ]
  },
  {
   "cell_type": "code",
   "execution_count": 35,
   "metadata": {},
   "outputs": [
    {
     "data": {
      "text/plain": [
       "SGDClassifier(loss='log')"
      ]
     },
     "execution_count": 35,
     "metadata": {},
     "output_type": "execute_result"
    }
   ],
   "source": [
    "model = SGDClassifier(loss=\"log\")\n",
    "model.partial_fit(original_encodings, df_merged.is_fake, classes=[0, 1])"
   ]
  },
  {
   "cell_type": "code",
   "execution_count": 36,
   "metadata": {},
   "outputs": [
    {
     "name": "stdout",
     "output_type": "stream",
     "text": [
      "Validation accuracy: 0.26025150355385457\n",
      "Validation AUC: 0.2984955844902669\n"
     ]
    }
   ],
   "source": [
    "model.partial_fit(train_encodings, train_articles_df.is_fake, classes=[0, 1])\n",
    "val_preds = model.predict_proba(val_encodings)\n",
    "val_acc = ((val_preds[:, 0] > 0.5) == val_articles_df.is_fake).mean()\n",
    "val_auc = roc_auc_score(val_articles_df.is_fake, val_preds[:, 0])\n",
    "print(f\"Validation accuracy: {val_acc}\")\n",
    "print(f\"Validation AUC: {val_auc}\")"
   ]
  },
  {
   "cell_type": "code",
   "execution_count": 37,
   "metadata": {},
   "outputs": [
    {
     "data": {
      "application/vnd.jupyter.widget-view+json": {
       "model_id": "1f8bc6f83758452d8ee8fa5d91c6e0af",
       "version_major": 2,
       "version_minor": 0
      },
      "text/plain": [
       "0it [00:00, ?it/s]"
      ]
     },
     "metadata": {},
     "output_type": "display_data"
    }
   ],
   "source": [
    "visual_check = nela_gt_2018_articles_df.sample(n=1000)\n",
    "predicted_probas = np.concatenate(\n",
    "    list(batched_predictions(visual_check, pretrained_fasttext, model, batch_size=128))\n",
    ")"
   ]
  },
  {
   "cell_type": "code",
   "execution_count": 38,
   "metadata": {},
   "outputs": [
    {
     "data": {
      "image/png": "[encoded data removed]",
      "text/plain": [
       "<Figure size 432x288 with 1 Axes>"
      ]
     },
     "metadata": {},
     "output_type": "display_data"
    }
   ],
   "source": [
    "ax = sns.boxplot(x=visual_check.source_score, y=predicted_probas[:, 1])\n",
    "\n",
    "ax.set_ylabel(\"Probability of being fake\")\n",
    "\n",
    "plt.savefig(\n",
    "    BASE_DATA_DIR\n",
    "    / \"processed\"\n",
    "    / \"trained_nela-gt-2018-articles-probability-of-being-fake.png\"\n",
    ")"
   ]
  },
  {
   "cell_type": "markdown",
   "metadata": {},
   "source": [
    "Model does have potential to separate true stories from fake ones. At least it's performance on training set is not absolutely atrocious.\n",
    "\n",
    "Now I have two ideas:\n",
    "1. I'm representing whole article as 300 numbers. I could give my model more information\n",
    "2. Data might not be linearly separable, I can try more complex model.\n",
    "\n",
    "Solution 2. is simpler to code, so I'll go with it first."
   ]
  },
  {
   "cell_type": "markdown",
   "metadata": {},
   "source": [
    "#### LightGBM"
   ]
  },
  {
   "cell_type": "code",
   "execution_count": 39,
   "metadata": {},
   "outputs": [],
   "source": [
    "train_dataset = lgb.Dataset(train_encodings, label=train_articles_df.is_fake)\n",
    "val_dataset = lgb.Dataset(val_encodings, label=val_articles_df.is_fake)\n",
    "original_dataset = lgb.Dataset(original_encodings, label=df_merged.is_fake)"
   ]
  },
  {
   "cell_type": "code",
   "execution_count": 40,
   "metadata": {},
   "outputs": [
    {
     "name": "stdout",
     "output_type": "stream",
     "text": [
      "[LightGBM] [Info] Number of positive: 55210, number of negative: 119637\n",
      "[LightGBM] [Warning] Auto-choosing col-wise multi-threading, the overhead of testing was 1.054656 seconds.\n",
      "You can set `force_col_wise=true` to remove the overhead.\n",
      "[LightGBM] [Info] Total Bins 153000\n",
      "[LightGBM] [Info] Number of data points in the train set: 174847, number of used features: 600\n",
      "[LightGBM] [Info] [binary:BoostFromScore]: pavg=0.315762 -> initscore=-0.773318\n",
      "[LightGBM] [Info] Start training from score -0.773318\n",
      "[1]\tval's auc: 0.582066\n",
      "Best val auc: defaultdict(<class 'collections.OrderedDict'>, {'val': OrderedDict([('auc', 0.5820663632092091)])})\n",
      "Original dataset auc: 0.7057260248812021\n",
      "Training auc: 0.6564766831486777\n"
     ]
    }
   ],
   "source": [
    "param = {\n",
    "    \"num_leaves\": 15,\n",
    "    \"max_depth\": 5,\n",
    "    \"objective\": \"binary\",\n",
    "    \"min_data_in_leaf\": train_articles_df.shape[0] // 100,\n",
    "    \"is_unbalance\": True,\n",
    "    \"feature_fraction\": 0.7,\n",
    "    \"bagging_fraction\": 0.5,\n",
    "    \"extra_trees\": True,\n",
    "    \"l1_regularization\": 1e-5,\n",
    "    \"l2_regularization\": 1e-3,\n",
    "    \"path_smooth\": 1e-5,\n",
    "}\n",
    "param[\"metric\"] = \"auc\"\n",
    "num_round = 1  # 3000\n",
    "bst = lgb.train(\n",
    "    param,\n",
    "    train_dataset,\n",
    "    num_round,\n",
    "    # I fail to make lgbm only consider the first metric for early stopping\n",
    "    # so I'm dropping original_dataset from val sets\n",
    "    # I'll calculate auc by hand\n",
    "    valid_sets=[val_dataset],\n",
    "    valid_names=[\"val\"],\n",
    "    early_stopping_rounds=min(num_round // 10, 1000),\n",
    ")\n",
    "print(f\"Best val auc: {bst.best_score}\")\n",
    "orig_preds = bst.predict(original_encodings, num_iteration=bst.best_iteration)\n",
    "orig_auc = roc_auc_score(df_merged.is_fake, orig_preds)\n",
    "print(f\"Original dataset auc: {orig_auc}\")\n",
    "train_preds = bst.predict(train_encodings, num_iteration=bst.best_iteration)\n",
    "train_auc = roc_auc_score(train_articles_df.is_fake, train_preds)\n",
    "print(f\"Training auc: {train_auc}\")"
   ]
  },
  {
   "cell_type": "markdown",
   "metadata": {},
   "source": [
    "Ok, my selected task to train models on is relevant.  \n",
    "Auc on original dataset - even tho model did not see at all is higher than on nela-gt-2018, data similar to one seen in training.\n",
    "\n",
    "I've also played a bit with parameters, best val auc I got was about .74, way better than what I had before."
   ]
  },
  {
   "cell_type": "code",
   "execution_count": 41,
   "metadata": {},
   "outputs": [
    {
     "data": {
      "application/vnd.jupyter.widget-view+json": {
       "model_id": "f42d9c6e1121406188827df63f9820cf",
       "version_major": 2,
       "version_minor": 0
      },
      "text/plain": [
       "0it [00:00, ?it/s]"
      ]
     },
     "metadata": {},
     "output_type": "display_data"
    }
   ],
   "source": [
    "preds = []\n",
    "\n",
    "sample = (\n",
    "    nela_gt_2018_articles_df[nela_gt_2018_articles_df.split == \"pred\"]\n",
    "    .dropna(subset=[\"title\"])\n",
    "    .sample(n=10000)\n",
    ")\n",
    "\n",
    "for enc, labels in batched_preprocessing(sample, pretrained_fasttext, batch_size=128):\n",
    "    preds.append(bst.predict(enc))\n",
    "preds = np.concatenate(preds)"
   ]
  },
  {
   "cell_type": "code",
   "execution_count": 42,
   "metadata": {},
   "outputs": [
    {
     "data": {
      "image/png": "[encoded data removed]",
      "text/plain": [
       "<Figure size 432x288 with 1 Axes>"
      ]
     },
     "metadata": {},
     "output_type": "display_data"
    }
   ],
   "source": [
    "ax = sns.boxplot(x=sample.source_score, y=preds)\n",
    "ax.set_ylabel(\"Probability of article being fake\")\n",
    "\n",
    "plt.suptitle(\"Distribution of fake articles by source score\")\n",
    "plt.savefig(BASE_DATA_DIR / \"processed\" / \"fake-articles-by-source-score-lgbm.png\")"
   ]
  },
  {
   "cell_type": "markdown",
   "metadata": {},
   "source": [
    "Ok, the trend looks as it should - decreasing probability of news being fake with source score increasing. Auc looks promising, but not usable yet."
   ]
  },
  {
   "cell_type": "markdown",
   "metadata": {},
   "source": [
    "#### Error analysis"
   ]
  },
  {
   "cell_type": "markdown",
   "metadata": {},
   "source": [
    "Let's try to improve it.\n",
    "\n",
    "First of all - which samples model predicted well?"
   ]
  },
  {
   "cell_type": "code",
   "execution_count": 43,
   "metadata": {},
   "outputs": [],
   "source": [
    "val_preds = bst.predict(val_encodings)"
   ]
  },
  {
   "cell_type": "code",
   "execution_count": 44,
   "metadata": {},
   "outputs": [],
   "source": [
    "val_errors = pd.DataFrame(index=val_articles_df.index)\n",
    "val_errors[\"is_fake\"] = val_articles_df.is_fake\n",
    "val_errors[\"predicted_score\"] = val_preds\n",
    "val_errors[\"error\"] = np.abs(val_errors.is_fake - val_errors.predicted_score)"
   ]
  },
  {
   "cell_type": "code",
   "execution_count": 45,
   "metadata": {},
   "outputs": [
    {
     "data": {
      "image/png": "[encoded data removed]",
      "text/plain": [
       "<Figure size 432x288 with 1 Axes>"
      ]
     },
     "metadata": {},
     "output_type": "display_data"
    }
   ],
   "source": [
    "sns.violinplot(x=val_errors.is_fake, y=val_errors.error, bins=100)\n",
    "plt.savefig(BASE_DATA_DIR / \"processed\" / \"error-distribution-lgbm.png\")"
   ]
  },
  {
   "cell_type": "markdown",
   "metadata": {},
   "source": [
    "Errors for unreliable sources are close to uniformly distributed. I'd say errors for \"true\" news resemble F distribution, but I'm just eyeballing."
   ]
  },
  {
   "cell_type": "code",
   "execution_count": 51,
   "metadata": {},
   "outputs": [],
   "source": [
    "num_keywords = 300\n",
    "\n",
    "title_tfidf_vectorizer = TfidfVectorizer(\n",
    "    max_features=num_keywords,\n",
    "    stop_words=\"english\",\n",
    ").fit(train_articles_df.title)"
   ]
  },
  {
   "cell_type": "markdown",
   "metadata": {},
   "source": [
    "By scanning through, very American list."
   ]
  },
  {
   "cell_type": "code",
   "execution_count": 52,
   "metadata": {},
   "outputs": [],
   "source": [
    "text_tfidf_vectorizer = TfidfVectorizer(\n",
    "    max_features=num_keywords,\n",
    "    stop_words=\"english\",\n",
    ").fit(train_articles_df.title)"
   ]
  },
  {
   "cell_type": "code",
   "execution_count": 53,
   "metadata": {},
   "outputs": [],
   "source": [
    "def get_tfidf_vectors(articles_df):\n",
    "    title_vectors = title_tfidf_vectorizer.transform(articles_df.title).todense()\n",
    "    text_vectors = text_tfidf_vectorizer.transform(articles_df.text).todense()\n",
    "    return np.array(np.concatenate([title_vectors, text_vectors], axis=1))"
   ]
  },
  {
   "cell_type": "code",
   "execution_count": 54,
   "metadata": {},
   "outputs": [],
   "source": [
    "train_features = np.concatenate(\n",
    "    [train_encodings, get_tfidf_vectors(train_articles_df)], axis=1\n",
    ")\n",
    "val_features = np.concatenate(\n",
    "    [val_encodings, get_tfidf_vectors(val_articles_df)], axis=1\n",
    ")\n",
    "original_features = np.concatenate(\n",
    "    [original_encodings, get_tfidf_vectors(df_merged)], axis=1\n",
    ")"
   ]
  },
  {
   "cell_type": "code",
   "execution_count": 55,
   "metadata": {},
   "outputs": [
    {
     "name": "stdout",
     "output_type": "stream",
     "text": [
      "[LightGBM] [Info] Number of positive: 55210, number of negative: 119637\n",
      "[LightGBM] [Warning] Auto-choosing col-wise multi-threading, the overhead of testing was 0.887572 seconds.\n",
      "You can set `force_col_wise=true` to remove the overhead.\n",
      "[LightGBM] [Info] Total Bins 59837\n",
      "[LightGBM] [Info] Number of data points in the train set: 174847, number of used features: 935\n",
      "[LightGBM] [Info] [binary:BoostFromScore]: pavg=0.315762 -> initscore=-0.773318\n",
      "[LightGBM] [Info] Start training from score -0.773318\n",
      "[1]\tval's auc: 0.653945\n",
      "Best val auc: defaultdict(<class 'collections.OrderedDict'>, {'val': OrderedDict([('auc', 0.6539450792543494)])})\n",
      "Original dataset auc: 0.6397378627289911\n",
      "Training auc: 0.6629496680516583\n"
     ]
    }
   ],
   "source": [
    "train_dataset = lgb.Dataset(train_features, label=train_articles_df.is_fake.values)\n",
    "val_dataset = lgb.Dataset(val_features, label=val_articles_df.is_fake.values)\n",
    "original_dataset = lgb.Dataset(original_features, label=df_merged.is_fake.values)\n",
    "\n",
    "param = {\n",
    "    \"num_leaves\": 15,\n",
    "    \"max_depth\": 5,\n",
    "    \"objective\": \"binary\",\n",
    "    \"min_data_in_leaf\": train_articles_df.shape[0] // 100,\n",
    "    \"is_unbalance\": True,\n",
    "    \"feature_fraction\": 0.5,\n",
    "    \"extra_trees\": True,\n",
    "    \"l1_regularization\": 1,\n",
    "    \"l2_regularization\": 1e-3,\n",
    "    \"path_smooth\": 1e-5,\n",
    "    \"max_bins\": 2**6,\n",
    "}\n",
    "param[\"metric\"] = \"auc\"\n",
    "num_round = 1  # 100000\n",
    "bst = lgb.train(\n",
    "    param,\n",
    "    train_dataset,\n",
    "    num_round,\n",
    "    # I fail to make lgbm only consider the first metric for early stopping\n",
    "    # so I'm dropping original_dataset from val sets\n",
    "    # I'll calculate auc by hand\n",
    "    valid_sets=[val_dataset],\n",
    "    valid_names=[\"val\"],\n",
    "    early_stopping_rounds=min(num_round // 10, 1000),\n",
    ")\n",
    "print(f\"Best val auc: {bst.best_score}\")\n",
    "orig_preds = bst.predict(original_features, num_iteration=bst.best_iteration)\n",
    "orig_auc = roc_auc_score(df_merged.is_fake, orig_preds)\n",
    "print(f\"Original dataset auc: {orig_auc}\")\n",
    "train_preds = bst.predict(train_features, num_iteration=bst.best_iteration)\n",
    "train_auc = roc_auc_score(train_articles_df.is_fake, train_preds)\n",
    "print(f\"Training auc: {train_auc}\")"
   ]
  },
  {
   "cell_type": "markdown",
   "metadata": {},
   "source": [
    "I've tried playing around, it seems that adding more features increased overfitting without improving performance on the validation set.  \n",
    "But I dislike such large gap between training performance and validation performance.\n",
    "\n",
    "Before moving to deep learning, let's try to model what I as a human was looking for - differences in tone and topics covered between fake and real news. Maybe K neighbors could pick that up?"
   ]
  },
  {
   "cell_type": "markdown",
   "metadata": {},
   "source": [
    "### K methods"
   ]
  },
  {
   "cell_type": "markdown",
   "metadata": {},
   "source": [
    "#### KNN"
   ]
  },
  {
   "cell_type": "code",
   "execution_count": 57,
   "metadata": {},
   "outputs": [],
   "source": [
    "def get_metrics(\n",
    "    features: Dict[str, np.ndarray],\n",
    "    labels: Dict[str, np.ndarray],\n",
    "    cb_pred_proba: Callable[[np.ndarray], np.ndarray],\n",
    ") -> Dict[str, Dict[str, float]]:\n",
    "    \"\"\"Calculate auc and accuracy for each feature set.\n",
    "\n",
    "    Args:\n",
    "        features (Dict[str, np.ndarray]): features in form of {\"train\": train_features, ...}\n",
    "        labels (Dict[str, np.ndarray]): labels in form of {\"train\": train_labels, ...}\n",
    "        cb_pred_proba (Callable[[np.ndarray], np.ndarray]): function taking features\n",
    "            and returning class probabilities\n",
    "\n",
    "    Returns:\n",
    "        Dict[str, Dict[str, float]]: metrics in form\n",
    "            {\"train\": {\"auc\": train_auc, \"accuracy\": train_accuracy}, ...}\n",
    "    \"\"\"\n",
    "    assert len(features) == len(labels)\n",
    "    metrics = {k: {\"auc\": np.nan, \"accuracy\": np.nan} for k in features}\n",
    "    for name, values in features.items():\n",
    "        preds = cb_pred_proba(values)\n",
    "        metrics[name][\"auc\"] = roc_auc_score(labels[name], preds)\n",
    "        metrics[name][\"accuracy\"] = ((preds > 0.5) == labels[name]).mean()\n",
    "    return metrics\n",
    "\n",
    "\n",
    "def knn_predict_proba(neighbors, labels, n_neighbors):\n",
    "    \"\"\"Reimplements sklearn knn, but I avoid calculating distances multiple times\"\"\"\n",
    "    return labels[neighbors[:, :n_neighbors]].mean(axis=1)\n",
    "\n",
    "\n",
    "def resample(features: np.ndarray, labels: np.ndarray, sampler: BaseSampler = None):\n",
    "    \"\"\"Resample the data.\n",
    "\n",
    "    Args:\n",
    "        features (np.ndarray): features\n",
    "        labels (np.ndarray): labels\n",
    "        sampler (BaseSampler): sampler to use; it is fit to the data\n",
    "\n",
    "    Returns:\n",
    "        Tuple[np.ndarray, np.ndarray]: (resampled features, resampled labels)\n",
    "    \"\"\"\n",
    "    if sampler:\n",
    "        return sampler.fit_resample(features, labels)\n",
    "    else:\n",
    "        return features, labels\n",
    "\n",
    "\n",
    "def evaluate_knn(\n",
    "    features: Dict[str, np.ndarray],\n",
    "    labels: Dict[str, np.ndarray],\n",
    "    kmin: int = 1,\n",
    "    kmax: int = 64,\n",
    "    step_size: int = 1,\n",
    "    sampler: BaseSampler = None,\n",
    ") -> Dict[str, Dict[str, float]]:\n",
    "    \"\"\"Evaluate KNearestNeighbors classifier across a range of k values.\n",
    "\n",
    "    Args:\n",
    "        features (Dict[str, np.ndarray]): features in form of {\"train\": train_features, ...}\n",
    "            at least train features is required\n",
    "        labels (Dict[str, np.ndarray]): labels in form of {\"train\": train_labels, ...}\n",
    "        kmin (int, optional): minimum k value to evaluate. Defaults to 1.\n",
    "        kmax (int, optional): maximum k value to evaluate. Defaults to 512.\n",
    "        step_size (int, optional): step size for k values. Defaults to 1.\n",
    "        sampler (BaseSampler, optional): sampler to use. Defaults to None.\n",
    "\n",
    "    Returns:\n",
    "        Dict[str, Dict[str, float]]: metrics in form\n",
    "            {\"train\": {\"auc\": train_auc, \"accuracy\": train_accuracy}, ...}\n",
    "    \"\"\"\n",
    "    assert len(features) == len(labels)\n",
    "    for name in features:\n",
    "        assert len(features[name]) == len(labels[name])\n",
    "\n",
    "    train_features_full, train_labels_full = resample(\n",
    "        features[\"train\"], labels[\"train\"], sampler\n",
    "    )\n",
    "    knn_classifier = KNeighborsClassifier(n_neighbors=kmax)\n",
    "    knn_classifier.fit(train_features_full, train_labels_full)\n",
    "\n",
    "    # copy references so I can mess with dict in-place without modifying the original\n",
    "    features = copy(features)\n",
    "    # I don't need every training sample to calculate training metrics\n",
    "    features[\"train\"] = features[\"train\"][:10000]\n",
    "    labels[\"train\"] = labels[\"train\"][:10000]\n",
    "\n",
    "    # most expensive part of this function is calculating distances\n",
    "    # (we only care about neighbors, not distances)\n",
    "    neighbors = {\n",
    "        name: knn_classifier.kneighbors(features[name], return_distance=False)\n",
    "        for name in features\n",
    "    }\n",
    "\n",
    "    metrics = {}\n",
    "    for n_neighbors in tqdm(range(kmax, kmin, -step_size), position=1):\n",
    "        metrics[n_neighbors] = get_metrics(\n",
    "            neighbors,\n",
    "            labels,\n",
    "            lambda x: knn_predict_proba(x, train_labels_full, n_neighbors),\n",
    "        )\n",
    "\n",
    "    return metrics"
   ]
  },
  {
   "cell_type": "markdown",
   "metadata": {},
   "source": [
    "We may finally be overfitting to our new dataset - performance on original dataset is worse than on nela-gt-2018 (still pretty good)."
   ]
  },
  {
   "cell_type": "markdown",
   "metadata": {},
   "source": [
    "I'll make a table summarising knn results."
   ]
  },
  {
   "cell_type": "code",
   "execution_count": 58,
   "metadata": {},
   "outputs": [],
   "source": [
    "results_df = pd.read_csv(\n",
    "    BASE_DATA_DIR / \"processed/knn_results_fasttext.csv\", index_col=0\n",
    ")\n",
    "\n",
    "# I can't figure out how to disable pandas convertion from string N/A to pd.NaN\n",
    "# I'll just fill nas here\n",
    "results_df.fillna(value=\"N/A\", inplace=True)"
   ]
  },
  {
   "cell_type": "code",
   "execution_count": 59,
   "metadata": {},
   "outputs": [],
   "source": [
    "melted_results_df = pd.melt(\n",
    "    results_df,\n",
    "    id_vars=[\"distance_metric\", \"upsampler\", \"n_neighbors\"],\n",
    "    var_name=\"metric\",\n",
    ")"
   ]
  },
  {
   "cell_type": "code",
   "execution_count": 60,
   "metadata": {},
   "outputs": [
    {
     "data": {
      "text/plain": [
       "(0.6, 1.0)"
      ]
     },
     "execution_count": 60,
     "metadata": {},
     "output_type": "execute_result"
    },
    {
     "data": {
      "image/png": "[encoded data removed]",
      "text/plain": [
       "<Figure size 1896.62x360 with 5 Axes>"
      ]
     },
     "metadata": {},
     "output_type": "display_data"
    }
   ],
   "source": [
    "sampler_order = [\"N/A\", \"SMOTE\", \"KMeansSMOTE\", \"SVM_SMOTE\", \"ADASYN\"]\n",
    "\n",
    "sns.relplot(\n",
    "    data=melted_results_df[melted_results_df.distance_metric == \"euclidean\"],\n",
    "    x=\"n_neighbors\",\n",
    "    y=\"value\",\n",
    "    hue=\"metric\",\n",
    "    col=\"upsampler\",\n",
    "    kind=\"line\",\n",
    "    col_order=sampler_order,\n",
    ")\n",
    "\n",
    "plt.ylim(0.6, 1)"
   ]
  },
  {
   "cell_type": "markdown",
   "metadata": {},
   "source": [
    "Let's distill the view to only validation performance."
   ]
  },
  {
   "cell_type": "code",
   "execution_count": 61,
   "metadata": {},
   "outputs": [],
   "source": [
    "pivot = melted_results_df[\n",
    "    (melted_results_df.metric == \"val_auc\")\n",
    "    & (melted_results_df.distance_metric == \"euclidean\")\n",
    "].pivot_table(index=\"upsampler\", columns=\"n_neighbors\", values=\"value\", aggfunc=\"mean\")"
   ]
  },
  {
   "cell_type": "code",
   "execution_count": 62,
   "metadata": {},
   "outputs": [
    {
     "data": {
      "text/plain": [
       "<AxesSubplot:xlabel='n_neighbors', ylabel='upsampler'>"
      ]
     },
     "execution_count": 62,
     "metadata": {},
     "output_type": "execute_result"
    },
    {
     "data": {
      "image/png": "[encoded data removed]",
      "text/plain": [
       "<Figure size 432x288 with 2 Axes>"
      ]
     },
     "metadata": {},
     "output_type": "display_data"
    }
   ],
   "source": [
    "sns.heatmap(pivot.loc[sampler_order], annot=True, fmt=\".2f\")"
   ]
  },
  {
   "cell_type": "markdown",
   "metadata": {},
   "source": [
    "So it's pretty clear that upsampling helps. Doesn't seem to particularly matter which upsampling method I use, as long as it's not KMeans :D\n",
    "Admittedly, I didn't tune it but it needing tuning would be a reason to not use it.\n",
    "\n",
    "I'd likely use 32 or 64 neighbours, since even though more neighbours help, runtime gets prohibitive."
   ]
  },
  {
   "cell_type": "code",
   "execution_count": 73,
   "metadata": {},
   "outputs": [],
   "source": [
    "sampled_features, sampled_labels = resample(\n",
    "    train_encodings,\n",
    "    train_articles_df.is_fake.values,\n",
    "    over_sampling.ADASYN(random_state=42),\n",
    ")"
   ]
  },
  {
   "cell_type": "code",
   "execution_count": 74,
   "metadata": {},
   "outputs": [],
   "source": [
    "knn = KNeighborsClassifier(n_neighbors=64).fit(sampled_features, sampled_labels)\n",
    "del sampled_features, sampled_labels"
   ]
  },
  {
   "cell_type": "code",
   "execution_count": 82,
   "metadata": {},
   "outputs": [],
   "source": [
    "sample = nela_gt_2018_articles_df[nela_gt_2018_articles_df.split == \"pred\"].sample(\n",
    "    2**10\n",
    ")\n",
    "\n",
    "preds = batched_predictions(sample, pretrained_fasttext, knn)"
   ]
  },
  {
   "cell_type": "code",
   "execution_count": 89,
   "metadata": {},
   "outputs": [],
   "source": [
    "preds = np.concatenate(list(preds))[:, 1]"
   ]
  },
  {
   "cell_type": "code",
   "execution_count": 142,
   "metadata": {},
   "outputs": [
    {
     "data": {
      "image/png": "[encoded data removed]",
      "text/plain": [
       "<Figure size 432x288 with 1 Axes>"
      ]
     },
     "metadata": {},
     "output_type": "display_data"
    }
   ],
   "source": [
    "plt.suptitle(\"KNN predictions on NELA GT 2018\")\n",
    "sns.regplot(x=sample.source_score, y=preds, x_jitter=0.1, scatter_kws={\"alpha\": 0.5})\n",
    "plt.ylabel(\"Predicted probability of news being fake\")\n",
    "plt.xlabel(\"Source score\")\n",
    "plt.savefig(BASE_DATA_DIR / \"processed/knn_predictions_gt_2018.png\")"
   ]
  },
  {
   "cell_type": "markdown",
   "metadata": {},
   "source": [
    "Let's see if extra tf-idf features help."
   ]
  },
  {
   "cell_type": "code",
   "execution_count": 64,
   "metadata": {},
   "outputs": [
    {
     "data": {
      "application/vnd.jupyter.widget-view+json": {
       "model_id": "449fd468290947dbbd3bad060154c8e2",
       "version_major": 2,
       "version_minor": 0
      },
      "text/plain": [
       "0it [00:00, ?it/s]"
      ]
     },
     "metadata": {},
     "output_type": "display_data"
    }
   ],
   "source": [
    "upsamplers = {\n",
    "    # \"smote\": over_sampling.SMOTE(random_state=42),\n",
    "    # SVM_SMOTE takes too long and isn't worth it\n",
    "    # \"svm_smote\": over_sampling.SVMSMOTE(random_state=42),\n",
    "    # \"adasyn\": over_sampling.ADASYN(random_state=42),\n",
    "    # \"N/A\": None,\n",
    "}\n",
    "metrics = {}\n",
    "for sampler_name, sampler in tqdm(upsamplers.items(), position=0):\n",
    "    with joblib.parallel_backend(\"threading\", n_jobs=4):\n",
    "        metrics[sampler_name] = evaluate_knn(\n",
    "            {\n",
    "                \"train\": train_features,\n",
    "                \"val\": val_features,\n",
    "                \"original\": original_features,\n",
    "            },\n",
    "            {\n",
    "                \"train\": train_articles_df.is_fake.values,\n",
    "                \"val\": val_articles_df.is_fake.values,\n",
    "                \"original\": df_merged.is_fake.values,\n",
    "            },\n",
    "            sampler=sampler,\n",
    "            kmax=256,\n",
    "        )"
   ]
  },
  {
   "cell_type": "code",
   "execution_count": 65,
   "metadata": {},
   "outputs": [
    {
     "data": {
      "text/html": [
       "<div>\n",
       "<style scoped>\n",
       "    .dataframe tbody tr th:only-of-type {\n",
       "        vertical-align: middle;\n",
       "    }\n",
       "\n",
       "    .dataframe tbody tr th {\n",
       "        vertical-align: top;\n",
       "    }\n",
       "\n",
       "    .dataframe thead th {\n",
       "        text-align: right;\n",
       "    }\n",
       "</style>\n",
       "<table border=\"1\" class=\"dataframe\">\n",
       "  <thead>\n",
       "    <tr style=\"text-align: right;\">\n",
       "      <th></th>\n",
       "      <th>Unnamed: 0</th>\n",
       "      <th>distance_metric</th>\n",
       "      <th>upsampler</th>\n",
       "      <th>n_neighbors</th>\n",
       "      <th>metric</th>\n",
       "      <th>split</th>\n",
       "      <th>value</th>\n",
       "    </tr>\n",
       "  </thead>\n",
       "  <tbody>\n",
       "    <tr>\n",
       "      <th>0</th>\n",
       "      <td>0</td>\n",
       "      <td>euclidean</td>\n",
       "      <td>smote</td>\n",
       "      <td>256</td>\n",
       "      <td>auc</td>\n",
       "      <td>train</td>\n",
       "      <td>0.696535</td>\n",
       "    </tr>\n",
       "    <tr>\n",
       "      <th>1</th>\n",
       "      <td>1</td>\n",
       "      <td>euclidean</td>\n",
       "      <td>smote</td>\n",
       "      <td>256</td>\n",
       "      <td>accuracy</td>\n",
       "      <td>train</td>\n",
       "      <td>0.401700</td>\n",
       "    </tr>\n",
       "    <tr>\n",
       "      <th>2</th>\n",
       "      <td>2</td>\n",
       "      <td>euclidean</td>\n",
       "      <td>smote</td>\n",
       "      <td>256</td>\n",
       "      <td>auc</td>\n",
       "      <td>val</td>\n",
       "      <td>0.644425</td>\n",
       "    </tr>\n",
       "    <tr>\n",
       "      <th>3</th>\n",
       "      <td>3</td>\n",
       "      <td>euclidean</td>\n",
       "      <td>smote</td>\n",
       "      <td>256</td>\n",
       "      <td>accuracy</td>\n",
       "      <td>val</td>\n",
       "      <td>0.328478</td>\n",
       "    </tr>\n",
       "    <tr>\n",
       "      <th>4</th>\n",
       "      <td>4</td>\n",
       "      <td>euclidean</td>\n",
       "      <td>smote</td>\n",
       "      <td>256</td>\n",
       "      <td>auc</td>\n",
       "      <td>original</td>\n",
       "      <td>0.663048</td>\n",
       "    </tr>\n",
       "    <tr>\n",
       "      <th>...</th>\n",
       "      <td>...</td>\n",
       "      <td>...</td>\n",
       "      <td>...</td>\n",
       "      <td>...</td>\n",
       "      <td>...</td>\n",
       "      <td>...</td>\n",
       "      <td>...</td>\n",
       "    </tr>\n",
       "    <tr>\n",
       "      <th>4585</th>\n",
       "      <td>4585</td>\n",
       "      <td>euclidean</td>\n",
       "      <td>NaN</td>\n",
       "      <td>2</td>\n",
       "      <td>accuracy</td>\n",
       "      <td>train</td>\n",
       "      <td>0.886000</td>\n",
       "    </tr>\n",
       "    <tr>\n",
       "      <th>4586</th>\n",
       "      <td>4586</td>\n",
       "      <td>euclidean</td>\n",
       "      <td>NaN</td>\n",
       "      <td>2</td>\n",
       "      <td>auc</td>\n",
       "      <td>val</td>\n",
       "      <td>0.593146</td>\n",
       "    </tr>\n",
       "    <tr>\n",
       "      <th>4587</th>\n",
       "      <td>4587</td>\n",
       "      <td>euclidean</td>\n",
       "      <td>NaN</td>\n",
       "      <td>2</td>\n",
       "      <td>accuracy</td>\n",
       "      <td>val</td>\n",
       "      <td>0.736624</td>\n",
       "    </tr>\n",
       "    <tr>\n",
       "      <th>4588</th>\n",
       "      <td>4588</td>\n",
       "      <td>euclidean</td>\n",
       "      <td>NaN</td>\n",
       "      <td>2</td>\n",
       "      <td>auc</td>\n",
       "      <td>original</td>\n",
       "      <td>0.588989</td>\n",
       "    </tr>\n",
       "    <tr>\n",
       "      <th>4589</th>\n",
       "      <td>4589</td>\n",
       "      <td>euclidean</td>\n",
       "      <td>NaN</td>\n",
       "      <td>2</td>\n",
       "      <td>accuracy</td>\n",
       "      <td>original</td>\n",
       "      <td>0.533427</td>\n",
       "    </tr>\n",
       "  </tbody>\n",
       "</table>\n",
       "<p>4590 rows × 7 columns</p>\n",
       "</div>"
      ],
      "text/plain": [
       "      Unnamed: 0 distance_metric upsampler  n_neighbors    metric     split  \\\n",
       "0              0       euclidean     smote          256       auc     train   \n",
       "1              1       euclidean     smote          256  accuracy     train   \n",
       "2              2       euclidean     smote          256       auc       val   \n",
       "3              3       euclidean     smote          256  accuracy       val   \n",
       "4              4       euclidean     smote          256       auc  original   \n",
       "...          ...             ...       ...          ...       ...       ...   \n",
       "4585        4585       euclidean       NaN            2  accuracy     train   \n",
       "4586        4586       euclidean       NaN            2       auc       val   \n",
       "4587        4587       euclidean       NaN            2  accuracy       val   \n",
       "4588        4588       euclidean       NaN            2       auc  original   \n",
       "4589        4589       euclidean       NaN            2  accuracy  original   \n",
       "\n",
       "         value  \n",
       "0     0.696535  \n",
       "1     0.401700  \n",
       "2     0.644425  \n",
       "3     0.328478  \n",
       "4     0.663048  \n",
       "...        ...  \n",
       "4585  0.886000  \n",
       "4586  0.593146  \n",
       "4587  0.736624  \n",
       "4588  0.588989  \n",
       "4589  0.533427  \n",
       "\n",
       "[4590 rows x 7 columns]"
      ]
     },
     "execution_count": 65,
     "metadata": {},
     "output_type": "execute_result"
    }
   ],
   "source": [
    "# metrics_records = []\n",
    "# for sampler in metrics:\n",
    "#     for k in metrics[sampler]:\n",
    "#         for split in metrics[sampler][k]:\n",
    "#             for metric in metrics[sampler][k][split]:\n",
    "#                 metrics_records.append(\n",
    "#                     {\n",
    "#                         \"distance_metric\": \"euclidean\",\n",
    "#                         \"upsampler\": sampler,\n",
    "#                         \"n_neighbors\": k,\n",
    "#                         \"metric\": metric,\n",
    "#                         \"split\": split,\n",
    "#                         \"value\": metrics[sampler][k][split][metric],\n",
    "#                     }\n",
    "#                 )\n",
    "# metrics_df = pd.DataFrame(metrics_records)\n",
    "# del metrics_records\n",
    "metrics_df = pd.read_csv(\n",
    "    BASE_DATA_DIR / \"processed/knn_results_fasttext_tfidf.csv\", index_col=0\n",
    ")\n",
    "metrics_df"
   ]
  },
  {
   "cell_type": "code",
   "execution_count": 66,
   "metadata": {},
   "outputs": [
    {
     "data": {
      "text/plain": [
       "Text(26.326987847222227, 0.5, 'AUC')"
      ]
     },
     "execution_count": 66,
     "metadata": {},
     "output_type": "execute_result"
    },
    {
     "data": {
      "image/png": "[encoded data removed]",
      "text/plain": [
       "<Figure size 793.625x360 with 2 Axes>"
      ]
     },
     "metadata": {},
     "output_type": "display_data"
    }
   ],
   "source": [
    "grid = sns.relplot(\n",
    "    data=metrics_df[metrics_df.metric == \"auc\"],\n",
    "    x=\"n_neighbors\",\n",
    "    y=\"value\",\n",
    "    hue=\"split\",\n",
    "    col=\"upsampler\",\n",
    "    kind=\"line\",\n",
    ")\n",
    "\n",
    "max_power = 8\n",
    "for rows in grid.axes:\n",
    "    for ax in rows:\n",
    "        ax.set_xscale(\"log\", base=2)\n",
    "        ticks = plt.xticks()\n",
    "        plt.xticks(\n",
    "            [2**i for i in range(1, max_power + 1)],\n",
    "            [str(2**i) for i in range(1, max_power + 1)],\n",
    "        )\n",
    "\n",
    "grid.axes[0, 0].set_ylabel(\"AUC\")"
   ]
  },
  {
   "cell_type": "markdown",
   "metadata": {},
   "source": [
    "Again those extra tf-idf features didn't add anything and only hurt performance. Let's go do deep learning."
   ]
  }
 ],
 "metadata": {
  "interpreter": {
   "hash": "ae7bee198037a552a421174d1fbfc7f84b0e1912ba1321ae8e594c02d8cc3bbf"
  },
  "kernelspec": {
   "display_name": "jjuoda-DL.4",
   "language": "python",
   "name": "python3"
  },
  "language_info": {
   "codemirror_mode": {
    "name": "ipython",
    "version": 3
   },
   "file_extension": ".py",
   "mimetype": "text/x-python",
   "name": "python",
   "nbconvert_exporter": "python",
   "pygments_lexer": "ipython3",
   "version": "3.10.2"
  }
 },
 "nbformat": 4,
 "nbformat_minor": 4
}
